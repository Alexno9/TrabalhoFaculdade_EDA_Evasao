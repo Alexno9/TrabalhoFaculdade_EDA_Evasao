{
 "cells": [
  {
   "cell_type": "code",
   "execution_count": 17,
   "metadata": {
    "collapsed": true
   },
   "outputs": [],
   "source": [
    "import numpy as np\n",
    "import seaborn as sb\n",
    "import pandas as pd\n",
    "import matplotlib.pyplot as plt\n",
    "\n",
    "%matplotlib inline"
   ]
  },
  {
   "cell_type": "code",
   "execution_count": 31,
   "metadata": {
    "collapsed": true
   },
   "outputs": [],
   "source": [
    "# arquivo que ira receber os valores da predição\n",
    "df = pd.read_csv('curso_clean.csv')\n",
    "\n",
    "#arquivo para realizar a predição, retirando os nulos\n",
    "df_predicao_sem_nulo = pd.read_csv('curso_clean.csv')"
   ]
  },
  {
   "cell_type": "code",
   "execution_count": 33,
   "metadata": {
    "collapsed": false
   },
   "outputs": [],
   "source": [
    "# variavel recebe somente o indice dos valores nulos\n",
    "nullo = df_predicao_sem_nulo.loc[df_predicao_sem_nulo['ANO_CONCLUSAO_2_GRAU'].isnull(), 'ANO_CONCLUSAO_2_GRAU'].index\n",
    "\n",
    "df_predicao_sem_nulo.drop(nullo, inplace=True)"
   ]
  },
  {
   "cell_type": "code",
   "execution_count": 34,
   "metadata": {
    "collapsed": false
   },
   "outputs": [],
   "source": [
    "df_predicao_sem_nulo['ANO_CONCLUSAO_2_GRAU'] = df_predicao_sem_nulo['ANO_CONCLUSAO_2_GRAU'].astype('int64')\n",
    "\n",
    "X_regre = df_predicao_sem_nulo[['IDADE_INGRESSO', 'ANO_INGRESSO']].values\n",
    "y_regre = df_predicao_sem_nulo[['ANO_CONCLUSAO_2_GRAU']].values"
   ]
  },
  {
   "cell_type": "markdown",
   "metadata": {},
   "source": [
    "### Realização da Predição para preenchimento dos valores nulos"
   ]
  },
  {
   "cell_type": "code",
   "execution_count": 35,
   "metadata": {
    "collapsed": false
   },
   "outputs": [
    {
     "data": {
      "text/plain": [
       "LinearRegression(copy_X=True, fit_intercept=True, n_jobs=1, normalize=False)"
      ]
     },
     "execution_count": 35,
     "metadata": {},
     "output_type": "execute_result"
    }
   ],
   "source": [
    "from sklearn import linear_model\n",
    "regressao_segundo_grau = linear_model.LinearRegression()\n",
    "\n",
    "regressao_segundo_grau.fit(X_regre,y_regre)"
   ]
  },
  {
   "cell_type": "code",
   "execution_count": 36,
   "metadata": {
    "collapsed": false
   },
   "outputs": [
    {
     "data": {
      "text/plain": [
       "array([ 2014.,  2011.,  2013.,  2012.,  2015.,  2009.,  2006.,  2007.,\n",
       "        2010.,  2008.,  2002.,  2004.,  2001.,  1992.,  1997.,  1995.,\n",
       "        1999.,  1986.,  2003.,  2005.,  2000.,  1993.,  1996.,  1982.,\n",
       "        1998.,  1973.,  1985.,  1990.,  1991.,  1994.,  1984.,  1978.,\n",
       "        1989.])"
      ]
     },
     "execution_count": 36,
     "metadata": {},
     "output_type": "execute_result"
    }
   ],
   "source": [
    "# result recebe um vetor de predição\n",
    "result = regressao_segundo_grau.predict(X_regre).astype('int64')\n",
    "\n",
    "# Este vetor é usado para preencher os valores nulos do frame original\n",
    "df.loc[df['ANO_CONCLUSAO_2_GRAU'].isnull(), 'ANO_CONCLUSAO_2_GRAU'] = result\n",
    "df.ANO_CONCLUSAO_2_GRAU.unique()"
   ]
  },
  {
   "cell_type": "code",
   "execution_count": 37,
   "metadata": {
    "collapsed": true
   },
   "outputs": [],
   "source": [
    "df['ANO_CONCLUSAO_2_GRAU'] = df['ANO_CONCLUSAO_2_GRAU'].astype('int64')"
   ]
  },
  {
   "cell_type": "markdown",
   "metadata": {},
   "source": [
    "### Realização da acurácia da regressão"
   ]
  },
  {
   "cell_type": "code",
   "execution_count": 38,
   "metadata": {
    "collapsed": true
   },
   "outputs": [],
   "source": [
    "X_acu = df[['IDADE_INGRESSO', 'ANO_INGRESSO']].values\n",
    "y_acu = df[['ANO_CONCLUSAO_2_GRAU']].values"
   ]
  },
  {
   "cell_type": "code",
   "execution_count": 39,
   "metadata": {
    "collapsed": false
   },
   "outputs": [
    {
     "data": {
      "text/plain": [
       "((11698, 2), (11698, 1))"
      ]
     },
     "execution_count": 39,
     "metadata": {},
     "output_type": "execute_result"
    }
   ],
   "source": [
    "from sklearn.model_selection import train_test_split\n",
    "\n",
    "regressao_acuracia = linear_model.LinearRegression()\n",
    "\n",
    "X_train, X_test, y_train, y_test = train_test_split(X_acu, y_acu, test_size=0.4, random_state=42)\n",
    "X_train.shape, y_train.shape"
   ]
  },
  {
   "cell_type": "code",
   "execution_count": 40,
   "metadata": {
    "collapsed": false
   },
   "outputs": [
    {
     "data": {
      "text/plain": [
       "((7799, 2), (7799, 1))"
      ]
     },
     "execution_count": 40,
     "metadata": {},
     "output_type": "execute_result"
    }
   ],
   "source": [
    "X_test.shape, y_test.shape"
   ]
  },
  {
   "cell_type": "code",
   "execution_count": 41,
   "metadata": {
    "collapsed": false
   },
   "outputs": [
    {
     "data": {
      "text/plain": [
       "LinearRegression(copy_X=True, fit_intercept=True, n_jobs=1, normalize=False)"
      ]
     },
     "execution_count": 41,
     "metadata": {},
     "output_type": "execute_result"
    }
   ],
   "source": [
    "regressao_acuracia.fit(X_train,y_train)"
   ]
  },
  {
   "cell_type": "code",
   "execution_count": 42,
   "metadata": {
    "collapsed": false
   },
   "outputs": [
    {
     "data": {
      "text/plain": [
       "0.74571449945737345"
      ]
     },
     "execution_count": 42,
     "metadata": {},
     "output_type": "execute_result"
    }
   ],
   "source": [
    "regressao_acuracia.score(X_test, y_test)"
   ]
  },
  {
   "cell_type": "code",
   "execution_count": 43,
   "metadata": {
    "collapsed": true
   },
   "outputs": [],
   "source": [
    "df.to_csv('curso_clean_final.csv', index=False)"
   ]
  }
 ],
 "metadata": {
  "kernelspec": {
   "display_name": "Python 3",
   "language": "python",
   "name": "python3"
  },
  "language_info": {
   "codemirror_mode": {
    "name": "ipython",
    "version": 3
   },
   "file_extension": ".py",
   "mimetype": "text/x-python",
   "name": "python",
   "nbconvert_exporter": "python",
   "pygments_lexer": "ipython3",
   "version": "3.6.0"
  }
 },
 "nbformat": 4,
 "nbformat_minor": 2
}
