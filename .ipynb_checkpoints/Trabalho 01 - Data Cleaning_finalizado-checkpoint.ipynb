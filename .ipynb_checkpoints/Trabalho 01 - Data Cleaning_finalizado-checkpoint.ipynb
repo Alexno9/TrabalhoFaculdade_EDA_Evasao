{
 "cells": [
  {
   "cell_type": "markdown",
   "metadata": {},
   "source": [
    "### Instituto Federal de Educação Ciência e Tecnologia de Goias\n",
    "### Aluno: Alex Augusto Cintra da Fonseca\n",
    "### Curso: Sistemas de Informação\n",
    "### Materia: Inteligência Artificial\n",
    "### Período: 7º"
   ]
  },
  {
   "cell_type": "markdown",
   "metadata": {},
   "source": [
    "                                        Data Cleaning - Arquivo Aberto Ifg"
   ]
  },
  {
   "cell_type": "markdown",
   "metadata": {},
   "source": [
    "Lista de Tarefas: (Terminar datacleaning)"
   ]
  },
  {
   "cell_type": "markdown",
   "metadata": {
    "collapsed": true
   },
   "source": [
    "        Dica: prestar atenção na visualização dos dados com o .unique(), tomando cuidado com valores alienigenas;\n",
    "        \n",
    "        A)- Limpeza de dados:\n",
    "        \n",
    "            1) Limpar todas as colunas não listadas nas atividades abaixo; OK\n",
    "        \n",
    "            1)- Limitar nível de fala, compreensão e escrita para apenas 'inglês'; OK\n",
    "        \n",
    "            2)- Limpeza de 'Renda per capita' parecida com 'renda familiar'; OK\n",
    "            \n",
    "            3)- Necessário saber somente do campo profissão se o cara trabalha ou não; OK\n",
    "            \n",
    "            4)- Codigo da disciplina é um ID, os ids geram ruído, favor retirar; OK\n",
    "            \n",
    "            5)- Limpar Colunas 'ano de ingresso' e 'ano de conclusão de 2 grau' para a regressão abaixo; OK\n",
    "            \n",
    "        B)- Criação de Colunas:\n",
    "        \n",
    "            1)- Está faltando a coluna binaria 'Aprovado' - aprovado = 1 || reprovado = 0; OK\n",
    "        \n",
    "        C)- Regressão, classificação, arvore de decisão e svn:\n",
    "        \n",
    "            1)- Regressão com o 'ano de ingresso' e 'ano de conclusão do 2º grau'; OK\n",
    "            \n",
    "            2)- Para descobrir a reprovação: OK \n",
    "                Ele reprovou pro falta? OK\n",
    "                Ele reprovou por nota (nota final)? OK\n",
    "            \n",
    "            3)- Classificação de evasão de um aluno (Utilizar acurácia para descobrir qual a melhor classificação):\n",
    "                Knn; OK\n",
    "                Svn; OK\n",
    "                Arvore de Decisão. OK\n",
    "             \n",
    "            4)- Classificação de Reprovação e Aprovação. OK\n",
    "    "
   ]
  },
  {
   "cell_type": "markdown",
   "metadata": {},
   "source": [
    "### Importando as bibliotecas para trabalho com arrays, plotagem de informações treinamento e aprendizado de máquina e manipulação de data frames"
   ]
  },
  {
   "cell_type": "code",
   "execution_count": 214,
   "metadata": {
    "collapsed": false
   },
   "outputs": [],
   "source": [
    "import numpy as np\n",
    "import pandas as pd\n",
    "import seaborn as sb\n",
    "import matplotlib.pyplot as plt\n",
    "\n",
    "%matplotlib inline"
   ]
  },
  {
   "cell_type": "markdown",
   "metadata": {},
   "source": [
    "### Criando um dataframe a partir do arquivo csv e revelando as colunas "
   ]
  },
  {
   "cell_type": "code",
   "execution_count": 215,
   "metadata": {
    "collapsed": false
   },
   "outputs": [
    {
     "data": {
      "text/plain": [
       "Index(['SIT_MATRICULA', 'PAI_FALECIDO', 'MAE_FALECIDO', 'RENDA_FAMILIAR',\n",
       "       'TIPO_ESCOLA_ORIGEM', 'ANO_CONCLUSAO_2_GRAU', 'RENDA_PER_CAPITA',\n",
       "       'COD_ESTADO_CIVIL', 'N_FILHOS', 'SEXO', 'PROFISSAO', 'DESC_CIDADE',\n",
       "       'DESC_ESTADO', 'DESC_IDIOMA', 'NIVEL_FALA', 'NIVEL_COMPREENSAO',\n",
       "       'NIVEL_ESCRITA', 'NIVEL_LEITURA', 'NOTAS', 'N_FALTAS', 'COD_DISCIPLINA',\n",
       "       'CARGA_HOR', 'ANO_INGRESSO', 'IDADE_INGRESSO'],\n",
       "      dtype='object')"
      ]
     },
     "execution_count": 215,
     "metadata": {},
     "output_type": "execute_result"
    }
   ],
   "source": [
    "df = pd.read_csv('curso1.csv')\n",
    "df.columns"
   ]
  },
  {
   "cell_type": "markdown",
   "metadata": {},
   "source": [
    "### Quantidade de linhas, quantidade de colunas e Informação dos tipos de cada campo"
   ]
  },
  {
   "cell_type": "code",
   "execution_count": 216,
   "metadata": {
    "collapsed": false
   },
   "outputs": [
    {
     "data": {
      "text/plain": [
       "(20770, 24)"
      ]
     },
     "execution_count": 216,
     "metadata": {},
     "output_type": "execute_result"
    }
   ],
   "source": [
    "df.shape"
   ]
  },
  {
   "cell_type": "code",
   "execution_count": 217,
   "metadata": {
    "collapsed": false
   },
   "outputs": [
    {
     "data": {
      "text/plain": [
       "SIT_MATRICULA             int64\n",
       "PAI_FALECIDO            float64\n",
       "MAE_FALECIDO            float64\n",
       "RENDA_FAMILIAR          float64\n",
       "TIPO_ESCOLA_ORIGEM       object\n",
       "ANO_CONCLUSAO_2_GRAU    float64\n",
       "RENDA_PER_CAPITA        float64\n",
       "COD_ESTADO_CIVIL         object\n",
       "N_FILHOS                float64\n",
       "SEXO                     object\n",
       "PROFISSAO                object\n",
       "DESC_CIDADE              object\n",
       "DESC_ESTADO              object\n",
       "DESC_IDIOMA              object\n",
       "NIVEL_FALA              float64\n",
       "NIVEL_COMPREENSAO       float64\n",
       "NIVEL_ESCRITA           float64\n",
       "NIVEL_LEITURA           float64\n",
       "NOTAS                    object\n",
       "N_FALTAS                float64\n",
       "COD_DISCIPLINA            int64\n",
       "CARGA_HOR                 int64\n",
       "ANO_INGRESSO              int64\n",
       "IDADE_INGRESSO          float64\n",
       "dtype: object"
      ]
     },
     "execution_count": 217,
     "metadata": {},
     "output_type": "execute_result"
    }
   ],
   "source": [
    "df.dtypes"
   ]
  },
  {
   "cell_type": "markdown",
   "metadata": {},
   "source": [
    "### Exemplo da Retirada de linhas que contenham pelo menos um valor nulo\n",
    "    Parametro how: 'any' para qualquer valor nulo,\n",
    "               'all' para todos os valores nulos "
   ]
  },
  {
   "cell_type": "code",
   "execution_count": 218,
   "metadata": {
    "collapsed": false
   },
   "outputs": [
    {
     "data": {
      "text/html": [
       "<div>\n",
       "<table border=\"1\" class=\"dataframe\">\n",
       "  <thead>\n",
       "    <tr style=\"text-align: right;\">\n",
       "      <th></th>\n",
       "      <th>SIT_MATRICULA</th>\n",
       "      <th>PAI_FALECIDO</th>\n",
       "      <th>MAE_FALECIDO</th>\n",
       "      <th>RENDA_FAMILIAR</th>\n",
       "      <th>ANO_CONCLUSAO_2_GRAU</th>\n",
       "      <th>RENDA_PER_CAPITA</th>\n",
       "      <th>N_FILHOS</th>\n",
       "      <th>NIVEL_FALA</th>\n",
       "      <th>NIVEL_COMPREENSAO</th>\n",
       "      <th>NIVEL_ESCRITA</th>\n",
       "      <th>NIVEL_LEITURA</th>\n",
       "      <th>N_FALTAS</th>\n",
       "      <th>COD_DISCIPLINA</th>\n",
       "      <th>CARGA_HOR</th>\n",
       "      <th>ANO_INGRESSO</th>\n",
       "      <th>IDADE_INGRESSO</th>\n",
       "    </tr>\n",
       "  </thead>\n",
       "  <tbody>\n",
       "    <tr>\n",
       "      <th>count</th>\n",
       "      <td>2299.000000</td>\n",
       "      <td>2299.0</td>\n",
       "      <td>2299.0</td>\n",
       "      <td>2299.000000</td>\n",
       "      <td>2299.000000</td>\n",
       "      <td>2299.000000</td>\n",
       "      <td>2299.000000</td>\n",
       "      <td>2299.000000</td>\n",
       "      <td>2299.000000</td>\n",
       "      <td>2299.000000</td>\n",
       "      <td>2299.000000</td>\n",
       "      <td>2299.000000</td>\n",
       "      <td>2299.000000</td>\n",
       "      <td>2299.000000</td>\n",
       "      <td>2299.000000</td>\n",
       "      <td>2299.000000</td>\n",
       "    </tr>\n",
       "    <tr>\n",
       "      <th>mean</th>\n",
       "      <td>5.327534</td>\n",
       "      <td>0.0</td>\n",
       "      <td>0.0</td>\n",
       "      <td>1.072205</td>\n",
       "      <td>2008.397999</td>\n",
       "      <td>5.431057</td>\n",
       "      <td>0.026098</td>\n",
       "      <td>1.769900</td>\n",
       "      <td>2.066986</td>\n",
       "      <td>1.789909</td>\n",
       "      <td>2.131361</td>\n",
       "      <td>7.317529</td>\n",
       "      <td>10592.655502</td>\n",
       "      <td>51.815572</td>\n",
       "      <td>2010.662462</td>\n",
       "      <td>19.607656</td>\n",
       "    </tr>\n",
       "    <tr>\n",
       "      <th>std</th>\n",
       "      <td>6.904747</td>\n",
       "      <td>0.0</td>\n",
       "      <td>0.0</td>\n",
       "      <td>1.764165</td>\n",
       "      <td>2.465853</td>\n",
       "      <td>4.770805</td>\n",
       "      <td>0.227020</td>\n",
       "      <td>0.779211</td>\n",
       "      <td>0.761247</td>\n",
       "      <td>0.773676</td>\n",
       "      <td>0.765990</td>\n",
       "      <td>12.059257</td>\n",
       "      <td>4493.402052</td>\n",
       "      <td>14.954381</td>\n",
       "      <td>1.520683</td>\n",
       "      <td>2.623959</td>\n",
       "    </tr>\n",
       "    <tr>\n",
       "      <th>min</th>\n",
       "      <td>0.000000</td>\n",
       "      <td>0.0</td>\n",
       "      <td>0.0</td>\n",
       "      <td>0.000000</td>\n",
       "      <td>1996.000000</td>\n",
       "      <td>0.000000</td>\n",
       "      <td>0.000000</td>\n",
       "      <td>1.000000</td>\n",
       "      <td>1.000000</td>\n",
       "      <td>1.000000</td>\n",
       "      <td>1.000000</td>\n",
       "      <td>0.000000</td>\n",
       "      <td>648.000000</td>\n",
       "      <td>27.000000</td>\n",
       "      <td>2009.000000</td>\n",
       "      <td>17.000000</td>\n",
       "    </tr>\n",
       "    <tr>\n",
       "      <th>25%</th>\n",
       "      <td>0.000000</td>\n",
       "      <td>0.0</td>\n",
       "      <td>0.0</td>\n",
       "      <td>0.000000</td>\n",
       "      <td>2007.000000</td>\n",
       "      <td>0.000000</td>\n",
       "      <td>0.000000</td>\n",
       "      <td>1.000000</td>\n",
       "      <td>1.000000</td>\n",
       "      <td>1.000000</td>\n",
       "      <td>2.000000</td>\n",
       "      <td>0.000000</td>\n",
       "      <td>8654.000000</td>\n",
       "      <td>54.000000</td>\n",
       "      <td>2010.000000</td>\n",
       "      <td>18.000000</td>\n",
       "    </tr>\n",
       "    <tr>\n",
       "      <th>50%</th>\n",
       "      <td>0.000000</td>\n",
       "      <td>0.0</td>\n",
       "      <td>0.0</td>\n",
       "      <td>0.000000</td>\n",
       "      <td>2008.000000</td>\n",
       "      <td>10.000000</td>\n",
       "      <td>0.000000</td>\n",
       "      <td>2.000000</td>\n",
       "      <td>2.000000</td>\n",
       "      <td>2.000000</td>\n",
       "      <td>2.000000</td>\n",
       "      <td>4.000000</td>\n",
       "      <td>9114.000000</td>\n",
       "      <td>54.000000</td>\n",
       "      <td>2010.000000</td>\n",
       "      <td>19.000000</td>\n",
       "    </tr>\n",
       "    <tr>\n",
       "      <th>75%</th>\n",
       "      <td>10.000000</td>\n",
       "      <td>0.0</td>\n",
       "      <td>0.0</td>\n",
       "      <td>3.000000</td>\n",
       "      <td>2010.000000</td>\n",
       "      <td>10.000000</td>\n",
       "      <td>0.000000</td>\n",
       "      <td>2.000000</td>\n",
       "      <td>3.000000</td>\n",
       "      <td>2.000000</td>\n",
       "      <td>3.000000</td>\n",
       "      <td>9.500000</td>\n",
       "      <td>9145.000000</td>\n",
       "      <td>54.000000</td>\n",
       "      <td>2012.000000</td>\n",
       "      <td>20.000000</td>\n",
       "    </tr>\n",
       "    <tr>\n",
       "      <th>max</th>\n",
       "      <td>18.000000</td>\n",
       "      <td>0.0</td>\n",
       "      <td>0.0</td>\n",
       "      <td>5.000000</td>\n",
       "      <td>2014.000000</td>\n",
       "      <td>10.000000</td>\n",
       "      <td>2.000000</td>\n",
       "      <td>3.000000</td>\n",
       "      <td>3.000000</td>\n",
       "      <td>3.000000</td>\n",
       "      <td>3.000000</td>\n",
       "      <td>108.000000</td>\n",
       "      <td>24371.000000</td>\n",
       "      <td>81.000000</td>\n",
       "      <td>2015.000000</td>\n",
       "      <td>35.000000</td>\n",
       "    </tr>\n",
       "  </tbody>\n",
       "</table>\n",
       "</div>"
      ],
      "text/plain": [
       "       SIT_MATRICULA  PAI_FALECIDO  MAE_FALECIDO  RENDA_FAMILIAR  \\\n",
       "count    2299.000000        2299.0        2299.0     2299.000000   \n",
       "mean        5.327534           0.0           0.0        1.072205   \n",
       "std         6.904747           0.0           0.0        1.764165   \n",
       "min         0.000000           0.0           0.0        0.000000   \n",
       "25%         0.000000           0.0           0.0        0.000000   \n",
       "50%         0.000000           0.0           0.0        0.000000   \n",
       "75%        10.000000           0.0           0.0        3.000000   \n",
       "max        18.000000           0.0           0.0        5.000000   \n",
       "\n",
       "       ANO_CONCLUSAO_2_GRAU  RENDA_PER_CAPITA     N_FILHOS   NIVEL_FALA  \\\n",
       "count           2299.000000       2299.000000  2299.000000  2299.000000   \n",
       "mean            2008.397999          5.431057     0.026098     1.769900   \n",
       "std                2.465853          4.770805     0.227020     0.779211   \n",
       "min             1996.000000          0.000000     0.000000     1.000000   \n",
       "25%             2007.000000          0.000000     0.000000     1.000000   \n",
       "50%             2008.000000         10.000000     0.000000     2.000000   \n",
       "75%             2010.000000         10.000000     0.000000     2.000000   \n",
       "max             2014.000000         10.000000     2.000000     3.000000   \n",
       "\n",
       "       NIVEL_COMPREENSAO  NIVEL_ESCRITA  NIVEL_LEITURA     N_FALTAS  \\\n",
       "count        2299.000000    2299.000000    2299.000000  2299.000000   \n",
       "mean            2.066986       1.789909       2.131361     7.317529   \n",
       "std             0.761247       0.773676       0.765990    12.059257   \n",
       "min             1.000000       1.000000       1.000000     0.000000   \n",
       "25%             1.000000       1.000000       2.000000     0.000000   \n",
       "50%             2.000000       2.000000       2.000000     4.000000   \n",
       "75%             3.000000       2.000000       3.000000     9.500000   \n",
       "max             3.000000       3.000000       3.000000   108.000000   \n",
       "\n",
       "       COD_DISCIPLINA    CARGA_HOR  ANO_INGRESSO  IDADE_INGRESSO  \n",
       "count     2299.000000  2299.000000   2299.000000     2299.000000  \n",
       "mean     10592.655502    51.815572   2010.662462       19.607656  \n",
       "std       4493.402052    14.954381      1.520683        2.623959  \n",
       "min        648.000000    27.000000   2009.000000       17.000000  \n",
       "25%       8654.000000    54.000000   2010.000000       18.000000  \n",
       "50%       9114.000000    54.000000   2010.000000       19.000000  \n",
       "75%       9145.000000    54.000000   2012.000000       20.000000  \n",
       "max      24371.000000    81.000000   2015.000000       35.000000  "
      ]
     },
     "execution_count": 218,
     "metadata": {},
     "output_type": "execute_result"
    }
   ],
   "source": [
    "df.dropna().describe()"
   ]
  },
  {
   "cell_type": "markdown",
   "metadata": {},
   "source": [
    "### Análise e seleção das colunas realizando a exclusão das que apresentem baixa relevância"
   ]
  },
  {
   "cell_type": "markdown",
   "metadata": {},
   "source": [
    "#### Campo Sit Matricula"
   ]
  },
  {
   "cell_type": "markdown",
   "metadata": {},
   "source": [
    "#### Buscando todos os tipos de valores da matricula e realizando binarização\n",
    "        \n",
    "        Categorias Antigas:\n",
    "          \n",
    "          categoria 0 = Matriculado\n",
    "          categoria 2 = Trancado\n",
    "          categoria 4 = Transferido Interno\n",
    "          categoria 9 = Evasão\n",
    "          categoria 10 = Cancelado\n",
    "          categoria 11 = Transferido Externo\n",
    "          categoria 13 = Aguardando colação de grau\n",
    "          categoria 14 = Intercambio\n",
    "          categoria 18 = Formado\n",
    "          categoria 20 = Cancelamento Compulsório\n",
    "        \n",
    "        Categorias novas:\n",
    "        \n",
    "          1 = evasão\n",
    "          0 = não evasão"
   ]
  },
  {
   "cell_type": "markdown",
   "metadata": {},
   "source": [
    "#### Pelo fato deste trabalho estar focado em descobrir aprovação ou reprovação de um aluno, além de sua evasão do curso\n",
    "#### Saber de qual escola o aluno vem é importante em outros tipos de análise, como faixa etaria de alunos concluintes do 2 grau vindos de escola publica"
   ]
  },
  {
   "cell_type": "code",
   "execution_count": 219,
   "metadata": {
    "collapsed": false
   },
   "outputs": [
    {
     "data": {
      "text/plain": [
       "array([ 0,  9, 10, 11,  2,  4, 20, 14, 18, 13], dtype=int64)"
      ]
     },
     "execution_count": 219,
     "metadata": {},
     "output_type": "execute_result"
    }
   ],
   "source": [
    "df.SIT_MATRICULA.unique()"
   ]
  },
  {
   "cell_type": "markdown",
   "metadata": {},
   "source": [
    "#### Método .loc busca valores a partir dos parametros de linha e colunas\n",
    "#### Pode-se usar tanto o index do data frame como a busca por valores armazenados"
   ]
  },
  {
   "cell_type": "code",
   "execution_count": 220,
   "metadata": {
    "collapsed": false
   },
   "outputs": [
    {
     "data": {
      "text/plain": [
       "array([0, 1], dtype=int64)"
      ]
     },
     "execution_count": 220,
     "metadata": {},
     "output_type": "execute_result"
    }
   ],
   "source": [
    "df.loc[df.SIT_MATRICULA == 2,'SIT_MATRICULA'] = 1\n",
    "df.loc[df.SIT_MATRICULA == 4,'SIT_MATRICULA'] = 1\n",
    "df.loc[df.SIT_MATRICULA == 9,'SIT_MATRICULA'] = 1\n",
    "df.loc[df.SIT_MATRICULA == 10,'SIT_MATRICULA'] = 1\n",
    "df.loc[df.SIT_MATRICULA == 11,'SIT_MATRICULA'] = 1\n",
    "df.loc[df.SIT_MATRICULA == 20,'SIT_MATRICULA'] = 1\n",
    "df.loc[df.SIT_MATRICULA == 13,'SIT_MATRICULA'] = 0\n",
    "df.loc[df.SIT_MATRICULA == 14,'SIT_MATRICULA'] = 0\n",
    "df.loc[df.SIT_MATRICULA == 18,'SIT_MATRICULA'] = 0\n",
    "\n",
    "df.SIT_MATRICULA.unique()\n",
    "##coluna binarizada"
   ]
  },
  {
   "cell_type": "code",
   "execution_count": 221,
   "metadata": {
    "collapsed": false
   },
   "outputs": [
    {
     "data": {
      "text/html": [
       "<div>\n",
       "<table border=\"1\" class=\"dataframe\">\n",
       "  <thead>\n",
       "    <tr style=\"text-align: right;\">\n",
       "      <th></th>\n",
       "      <th>SIT_MATRICULA</th>\n",
       "      <th>PAI_FALECIDO</th>\n",
       "      <th>MAE_FALECIDO</th>\n",
       "      <th>RENDA_FAMILIAR</th>\n",
       "      <th>TIPO_ESCOLA_ORIGEM</th>\n",
       "      <th>ANO_CONCLUSAO_2_GRAU</th>\n",
       "      <th>RENDA_PER_CAPITA</th>\n",
       "      <th>COD_ESTADO_CIVIL</th>\n",
       "      <th>N_FILHOS</th>\n",
       "      <th>SEXO</th>\n",
       "      <th>...</th>\n",
       "      <th>NIVEL_FALA</th>\n",
       "      <th>NIVEL_COMPREENSAO</th>\n",
       "      <th>NIVEL_ESCRITA</th>\n",
       "      <th>NIVEL_LEITURA</th>\n",
       "      <th>NOTAS</th>\n",
       "      <th>N_FALTAS</th>\n",
       "      <th>COD_DISCIPLINA</th>\n",
       "      <th>CARGA_HOR</th>\n",
       "      <th>ANO_INGRESSO</th>\n",
       "      <th>IDADE_INGRESSO</th>\n",
       "    </tr>\n",
       "  </thead>\n",
       "  <tbody>\n",
       "    <tr>\n",
       "      <th>0</th>\n",
       "      <td>0</td>\n",
       "      <td>0.0</td>\n",
       "      <td>0.0</td>\n",
       "      <td>NaN</td>\n",
       "      <td>E</td>\n",
       "      <td>2014.0</td>\n",
       "      <td>NaN</td>\n",
       "      <td>S</td>\n",
       "      <td>NaN</td>\n",
       "      <td>M</td>\n",
       "      <td>...</td>\n",
       "      <td>1.0</td>\n",
       "      <td>1.0</td>\n",
       "      <td>1.0</td>\n",
       "      <td>1.0</td>\n",
       "      <td>6.70</td>\n",
       "      <td>NaN</td>\n",
       "      <td>648</td>\n",
       "      <td>54</td>\n",
       "      <td>2016</td>\n",
       "      <td>20.0</td>\n",
       "    </tr>\n",
       "    <tr>\n",
       "      <th>1</th>\n",
       "      <td>0</td>\n",
       "      <td>0.0</td>\n",
       "      <td>0.0</td>\n",
       "      <td>0.0</td>\n",
       "      <td>P</td>\n",
       "      <td>2011.0</td>\n",
       "      <td>0.0</td>\n",
       "      <td>NaN</td>\n",
       "      <td>0.0</td>\n",
       "      <td>M</td>\n",
       "      <td>...</td>\n",
       "      <td>2.0</td>\n",
       "      <td>3.0</td>\n",
       "      <td>3.0</td>\n",
       "      <td>3.0</td>\n",
       "      <td>10.00</td>\n",
       "      <td>NaN</td>\n",
       "      <td>648</td>\n",
       "      <td>54</td>\n",
       "      <td>2016</td>\n",
       "      <td>21.0</td>\n",
       "    </tr>\n",
       "  </tbody>\n",
       "</table>\n",
       "<p>2 rows × 24 columns</p>\n",
       "</div>"
      ],
      "text/plain": [
       "   SIT_MATRICULA  PAI_FALECIDO  MAE_FALECIDO  RENDA_FAMILIAR  \\\n",
       "0              0           0.0           0.0             NaN   \n",
       "1              0           0.0           0.0             0.0   \n",
       "\n",
       "  TIPO_ESCOLA_ORIGEM  ANO_CONCLUSAO_2_GRAU  RENDA_PER_CAPITA COD_ESTADO_CIVIL  \\\n",
       "0                  E                2014.0               NaN                S   \n",
       "1                  P                2011.0               0.0              NaN   \n",
       "\n",
       "   N_FILHOS SEXO       ...       NIVEL_FALA NIVEL_COMPREENSAO NIVEL_ESCRITA  \\\n",
       "0       NaN    M       ...              1.0               1.0           1.0   \n",
       "1       0.0    M       ...              2.0               3.0           3.0   \n",
       "\n",
       "  NIVEL_LEITURA  NOTAS  N_FALTAS  COD_DISCIPLINA  CARGA_HOR ANO_INGRESSO  \\\n",
       "0           1.0   6.70       NaN             648         54         2016   \n",
       "1           3.0  10.00       NaN             648         54         2016   \n",
       "\n",
       "   IDADE_INGRESSO  \n",
       "0            20.0  \n",
       "1            21.0  \n",
       "\n",
       "[2 rows x 24 columns]"
      ]
     },
     "execution_count": 221,
     "metadata": {},
     "output_type": "execute_result"
    }
   ],
   "source": [
    "df.head(2)"
   ]
  },
  {
   "cell_type": "markdown",
   "metadata": {},
   "source": [
    "#### Campo Pai Falecido"
   ]
  },
  {
   "cell_type": "code",
   "execution_count": 222,
   "metadata": {
    "collapsed": false
   },
   "outputs": [
    {
     "data": {
      "text/plain": [
       "array([  0.,   1.,  nan])"
      ]
     },
     "execution_count": 222,
     "metadata": {},
     "output_type": "execute_result"
    }
   ],
   "source": [
    "df.PAI_FALECIDO.unique()"
   ]
  },
  {
   "cell_type": "code",
   "execution_count": 223,
   "metadata": {
    "collapsed": false
   },
   "outputs": [
    {
     "data": {
      "text/plain": [
       "0.0    15130\n",
       "1.0      306\n",
       "Name: PAI_FALECIDO, dtype: int64"
      ]
     },
     "execution_count": 223,
     "metadata": {},
     "output_type": "execute_result"
    }
   ],
   "source": [
    "df.PAI_FALECIDO.value_counts()"
   ]
  },
  {
   "cell_type": "markdown",
   "metadata": {},
   "source": [
    "Este campo pode ser retirado do data frame <br>\n",
    "#### Devido a grande parte dos alunos ter em sua maioria a presença dos pais"
   ]
  },
  {
   "cell_type": "code",
   "execution_count": 224,
   "metadata": {
    "collapsed": false
   },
   "outputs": [],
   "source": [
    "## axis: 1 para coluna, 0 para linhas\n",
    "## inplace = true para não precisar encaixar o drop de df dentro do proprio df\n",
    "\n",
    "df.drop('PAI_FALECIDO', axis=1, inplace=True)"
   ]
  },
  {
   "cell_type": "markdown",
   "metadata": {},
   "source": [
    "#### Campo Mãe Falecida"
   ]
  },
  {
   "cell_type": "code",
   "execution_count": 225,
   "metadata": {
    "collapsed": false
   },
   "outputs": [
    {
     "data": {
      "text/plain": [
       "array([  0.,  nan])"
      ]
     },
     "execution_count": 225,
     "metadata": {},
     "output_type": "execute_result"
    }
   ],
   "source": [
    "df.MAE_FALECIDO.unique()"
   ]
  },
  {
   "cell_type": "code",
   "execution_count": 226,
   "metadata": {
    "collapsed": false
   },
   "outputs": [
    {
     "data": {
      "text/plain": [
       "0.0    15532\n",
       "Name: MAE_FALECIDO, dtype: int64"
      ]
     },
     "execution_count": 226,
     "metadata": {},
     "output_type": "execute_result"
    }
   ],
   "source": [
    "df.MAE_FALECIDO.value_counts()"
   ]
  },
  {
   "cell_type": "markdown",
   "metadata": {},
   "source": [
    "#### A coluna só possui valores que representam nenhum óbito relacionado as mães, logo, o campo pode ser retirado"
   ]
  },
  {
   "cell_type": "code",
   "execution_count": 227,
   "metadata": {
    "collapsed": false
   },
   "outputs": [],
   "source": [
    "df.drop('MAE_FALECIDO', axis=1, inplace=True)"
   ]
  },
  {
   "cell_type": "markdown",
   "metadata": {},
   "source": [
    "#### Campo Renda Familiar"
   ]
  },
  {
   "cell_type": "code",
   "execution_count": 228,
   "metadata": {
    "collapsed": false
   },
   "outputs": [
    {
     "data": {
      "text/plain": [
       "array([ nan,   0.,   3.,   4.,   6.,   5.,   1.,   2.])"
      ]
     },
     "execution_count": 228,
     "metadata": {},
     "output_type": "execute_result"
    }
   ],
   "source": [
    "df.RENDA_FAMILIAR.unique()"
   ]
  },
  {
   "cell_type": "code",
   "execution_count": 229,
   "metadata": {
    "collapsed": false
   },
   "outputs": [
    {
     "data": {
      "text/plain": [
       "0.0    7731\n",
       "3.0    1206\n",
       "4.0     812\n",
       "5.0     709\n",
       "2.0     521\n",
       "6.0     363\n",
       "1.0      32\n",
       "Name: RENDA_FAMILIAR, dtype: int64"
      ]
     },
     "execution_count": 229,
     "metadata": {},
     "output_type": "execute_result"
    }
   ],
   "source": [
    "df.RENDA_FAMILIAR.value_counts()"
   ]
  },
  {
   "cell_type": "markdown",
   "metadata": {},
   "source": [
    "#### Realização de adaptação dos valores 'NaN' (nulos ou não cadastrados)\n",
    "#### Para tratar os valores, vamos utilizar da média dentre os valores cadastrados\n",
    "#### É possivel dizer que os valores não cadastrados estão na media"
   ]
  },
  {
   "cell_type": "code",
   "execution_count": 230,
   "metadata": {
    "collapsed": false
   },
   "outputs": [
    {
     "data": {
      "text/plain": [
       "3.7504803733186933"
      ]
     },
     "execution_count": 230,
     "metadata": {},
     "output_type": "execute_result"
    }
   ],
   "source": [
    "## .mean() = traz a media de um intervalo de valores\n",
    "## loc traz linhas com valores diferentes de zero e não nulos\n",
    "\n",
    "renda_media = df.loc[(df['RENDA_FAMILIAR']!=0) & (df['RENDA_FAMILIAR'].notnull()), 'RENDA_FAMILIAR'].mean()\n",
    "renda_media"
   ]
  },
  {
   "cell_type": "code",
   "execution_count": 231,
   "metadata": {
    "collapsed": false
   },
   "outputs": [
    {
     "data": {
      "text/plain": [
       "4"
      ]
     },
     "execution_count": 231,
     "metadata": {},
     "output_type": "execute_result"
    }
   ],
   "source": [
    "renda_media = round(renda_media)\n",
    "renda_media"
   ]
  },
  {
   "cell_type": "code",
   "execution_count": 232,
   "metadata": {
    "collapsed": true
   },
   "outputs": [],
   "source": [
    "## valores nulos irão receber a media da renda_familiar\n",
    "\n",
    "df.loc[df['RENDA_FAMILIAR'].isnull(), 'RENDA_FAMILIAR'] = renda_media"
   ]
  },
  {
   "cell_type": "code",
   "execution_count": 233,
   "metadata": {
    "collapsed": false,
    "scrolled": true
   },
   "outputs": [
    {
     "data": {
      "text/plain": [
       "4.0    10208\n",
       "0.0     7731\n",
       "3.0     1206\n",
       "5.0      709\n",
       "2.0      521\n",
       "6.0      363\n",
       "1.0       32\n",
       "Name: RENDA_FAMILIAR, dtype: int64"
      ]
     },
     "execution_count": 233,
     "metadata": {},
     "output_type": "execute_result"
    }
   ],
   "source": [
    "df.RENDA_FAMILIAR.unique()\n",
    "df.RENDA_FAMILIAR.value_counts()"
   ]
  },
  {
   "cell_type": "code",
   "execution_count": 234,
   "metadata": {
    "collapsed": false
   },
   "outputs": [
    {
     "data": {
      "text/plain": [
       "dtype('int64')"
      ]
     },
     "execution_count": 234,
     "metadata": {},
     "output_type": "execute_result"
    }
   ],
   "source": [
    "## pela renda se caracterizar como salario minimo\n",
    "## deve ser inteiro\n",
    "\n",
    "df['RENDA_FAMILIAR']= df['RENDA_FAMILIAR'].astype('int64')\n",
    "df.RENDA_FAMILIAR.dtype"
   ]
  },
  {
   "cell_type": "markdown",
   "metadata": {},
   "source": [
    "#### Campo Tipo Escola Origem"
   ]
  },
  {
   "cell_type": "code",
   "execution_count": 235,
   "metadata": {
    "collapsed": false
   },
   "outputs": [
    {
     "data": {
      "text/plain": [
       "array(['E', 'P', nan, 'O', 'F', 'I', 'M', 'C', '0'], dtype=object)"
      ]
     },
     "execution_count": 235,
     "metadata": {},
     "output_type": "execute_result"
    }
   ],
   "source": [
    "df.TIPO_ESCOLA_ORIGEM.unique()"
   ]
  },
  {
   "cell_type": "code",
   "execution_count": 236,
   "metadata": {
    "collapsed": false
   },
   "outputs": [
    {
     "data": {
      "text/plain": [
       "P    10311\n",
       "E     6183\n",
       "F     2890\n",
       "O      286\n",
       "0      281\n",
       "I       85\n",
       "M       77\n",
       "C       60\n",
       "Name: TIPO_ESCOLA_ORIGEM, dtype: int64"
      ]
     },
     "execution_count": 236,
     "metadata": {},
     "output_type": "execute_result"
    }
   ],
   "source": [
    "df.TIPO_ESCOLA_ORIGEM.value_counts()"
   ]
  },
  {
   "cell_type": "markdown",
   "metadata": {},
   "source": [
    "Transferindo valores em string para valores numéricos: <br>\n",
    "    P = escola publica     1 <br>\n",
    "    E = escola estadual    2 <br>\n",
    "    F = escola federal     3 <br>\n",
    "    O = outras             4 <br>\n",
    "    0 = ??                 0 <br>\n",
    "    I = instituto          5 <br>\n",
    "    M = municipal          6 <br>\n",
    "    C = ??                 7 <br>\n",
    "    NaN <br>\n",
    "\n",
    "-É notavel considerar que 51% dos valores são considerados 'P' <br>\n",
    "-O que seria escola 0??"
   ]
  },
  {
   "cell_type": "code",
   "execution_count": 237,
   "metadata": {
    "collapsed": false
   },
   "outputs": [
    {
     "data": {
      "text/plain": [
       "array([2, 1, nan, 4, 3, 5, 6, 7, 0], dtype=object)"
      ]
     },
     "execution_count": 237,
     "metadata": {},
     "output_type": "execute_result"
    }
   ],
   "source": [
    "df.loc[df.TIPO_ESCOLA_ORIGEM == '0','TIPO_ESCOLA_ORIGEM'] = 0\n",
    "df.loc[df.TIPO_ESCOLA_ORIGEM == 'P','TIPO_ESCOLA_ORIGEM'] = 1\n",
    "df.loc[df.TIPO_ESCOLA_ORIGEM == 'E','TIPO_ESCOLA_ORIGEM'] = 2\n",
    "df.loc[df.TIPO_ESCOLA_ORIGEM == 'F','TIPO_ESCOLA_ORIGEM'] = 3\n",
    "df.loc[df.TIPO_ESCOLA_ORIGEM == 'O','TIPO_ESCOLA_ORIGEM'] = 4\n",
    "df.loc[df.TIPO_ESCOLA_ORIGEM == 'I','TIPO_ESCOLA_ORIGEM'] = 5\n",
    "df.loc[df.TIPO_ESCOLA_ORIGEM == 'M','TIPO_ESCOLA_ORIGEM'] = 6\n",
    "df.loc[df.TIPO_ESCOLA_ORIGEM == 'C','TIPO_ESCOLA_ORIGEM'] = 7\n",
    "\n",
    "df.TIPO_ESCOLA_ORIGEM.unique()"
   ]
  },
  {
   "cell_type": "code",
   "execution_count": 238,
   "metadata": {
    "collapsed": false
   },
   "outputs": [
    {
     "data": {
      "text/plain": [
       "1    10311\n",
       "2     6183\n",
       "3     2890\n",
       "4      286\n",
       "0      281\n",
       "5       85\n",
       "6       77\n",
       "7       60\n",
       "Name: TIPO_ESCOLA_ORIGEM, dtype: int64"
      ]
     },
     "execution_count": 238,
     "metadata": {},
     "output_type": "execute_result"
    }
   ],
   "source": [
    "df.TIPO_ESCOLA_ORIGEM.value_counts()"
   ]
  },
  {
   "cell_type": "code",
   "execution_count": 239,
   "metadata": {
    "collapsed": false
   },
   "outputs": [
    {
     "data": {
      "text/plain": [
       "dtype('O')"
      ]
     },
     "execution_count": 239,
     "metadata": {},
     "output_type": "execute_result"
    }
   ],
   "source": [
    "##Buscando tipo da coluna\n",
    "df.TIPO_ESCOLA_ORIGEM.dtypes"
   ]
  },
  {
   "cell_type": "code",
   "execution_count": 240,
   "metadata": {
    "collapsed": false
   },
   "outputs": [
    {
     "data": {
      "text/plain": [
       "dtype('float64')"
      ]
     },
     "execution_count": 240,
     "metadata": {},
     "output_type": "execute_result"
    }
   ],
   "source": [
    "##Por ser objeto, a mesma deve ser transformada em valores numéricos\n",
    "df['TIPO_ESCOLA_ORIGEM'] = df['TIPO_ESCOLA_ORIGEM'].astype('float64')\n",
    "df.TIPO_ESCOLA_ORIGEM.dtypes"
   ]
  },
  {
   "cell_type": "markdown",
   "metadata": {},
   "source": [
    "Verificando correlação entre Tipo escola e situação matricula"
   ]
  },
  {
   "cell_type": "code",
   "execution_count": 241,
   "metadata": {
    "collapsed": false
   },
   "outputs": [
    {
     "data": {
      "text/html": [
       "<div>\n",
       "<table border=\"1\" class=\"dataframe\">\n",
       "  <thead>\n",
       "    <tr style=\"text-align: right;\">\n",
       "      <th></th>\n",
       "      <th>SIT_MATRICULA</th>\n",
       "      <th>TIPO_ESCOLA_ORIGEM</th>\n",
       "    </tr>\n",
       "  </thead>\n",
       "  <tbody>\n",
       "    <tr>\n",
       "      <th>SIT_MATRICULA</th>\n",
       "      <td>1.000000</td>\n",
       "      <td>0.027901</td>\n",
       "    </tr>\n",
       "    <tr>\n",
       "      <th>TIPO_ESCOLA_ORIGEM</th>\n",
       "      <td>0.027901</td>\n",
       "      <td>1.000000</td>\n",
       "    </tr>\n",
       "  </tbody>\n",
       "</table>\n",
       "</div>"
      ],
      "text/plain": [
       "                    SIT_MATRICULA  TIPO_ESCOLA_ORIGEM\n",
       "SIT_MATRICULA            1.000000            0.027901\n",
       "TIPO_ESCOLA_ORIGEM       0.027901            1.000000"
      ]
     },
     "execution_count": 241,
     "metadata": {},
     "output_type": "execute_result"
    }
   ],
   "source": [
    "##seleção de colunas específicas para correlação\n",
    "df.loc[:, ['SIT_MATRICULA', 'TIPO_ESCOLA_ORIGEM']].corr(method='spearman')"
   ]
  },
  {
   "cell_type": "code",
   "execution_count": 242,
   "metadata": {
    "collapsed": false
   },
   "outputs": [
    {
     "data": {
      "text/plain": [
       "<seaborn.axisgrid.PairGrid at 0x1fc955938d0>"
      ]
     },
     "execution_count": 242,
     "metadata": {},
     "output_type": "execute_result"
    },
    {
     "data": {
      "image/png": "[encoded data removed]",
      "text/plain": [
       "<matplotlib.figure.Figure at 0x1fc95593b70>"
      ]
     },
     "metadata": {},
     "output_type": "display_data"
    }
   ],
   "source": [
    "df_plot_escola_matricula = df.loc[:, ['SIT_MATRICULA', 'TIPO_ESCOLA_ORIGEM']]\n",
    "sb.pairplot(df_plot_escola_matricula.dropna(), hue='SIT_MATRICULA')"
   ]
  },
  {
   "cell_type": "markdown",
   "metadata": {},
   "source": [
    "#### Através da plotagem e da correlação, pode ser concluido que esta campo não nos retorna informações conclusas\n",
    "#### Neste caso, por não saber com certeza o significado de cada valor, não é possivel realizar a binarização dos dados, logo, o mesmo será desconsiderado do frame principal"
   ]
  },
  {
   "cell_type": "code",
   "execution_count": 243,
   "metadata": {
    "collapsed": false
   },
   "outputs": [
    {
     "data": {
      "text/html": [
       "<div>\n",
       "<table border=\"1\" class=\"dataframe\">\n",
       "  <thead>\n",
       "    <tr style=\"text-align: right;\">\n",
       "      <th></th>\n",
       "      <th>SIT_MATRICULA</th>\n",
       "      <th>RENDA_FAMILIAR</th>\n",
       "      <th>ANO_CONCLUSAO_2_GRAU</th>\n",
       "      <th>RENDA_PER_CAPITA</th>\n",
       "      <th>COD_ESTADO_CIVIL</th>\n",
       "      <th>N_FILHOS</th>\n",
       "      <th>SEXO</th>\n",
       "      <th>PROFISSAO</th>\n",
       "      <th>DESC_CIDADE</th>\n",
       "      <th>DESC_ESTADO</th>\n",
       "      <th>...</th>\n",
       "      <th>NIVEL_FALA</th>\n",
       "      <th>NIVEL_COMPREENSAO</th>\n",
       "      <th>NIVEL_ESCRITA</th>\n",
       "      <th>NIVEL_LEITURA</th>\n",
       "      <th>NOTAS</th>\n",
       "      <th>N_FALTAS</th>\n",
       "      <th>COD_DISCIPLINA</th>\n",
       "      <th>CARGA_HOR</th>\n",
       "      <th>ANO_INGRESSO</th>\n",
       "      <th>IDADE_INGRESSO</th>\n",
       "    </tr>\n",
       "  </thead>\n",
       "  <tbody>\n",
       "    <tr>\n",
       "      <th>0</th>\n",
       "      <td>0</td>\n",
       "      <td>4</td>\n",
       "      <td>2014.0</td>\n",
       "      <td>NaN</td>\n",
       "      <td>S</td>\n",
       "      <td>NaN</td>\n",
       "      <td>M</td>\n",
       "      <td>NaN</td>\n",
       "      <td>Goiânia</td>\n",
       "      <td>Goiás</td>\n",
       "      <td>...</td>\n",
       "      <td>1.0</td>\n",
       "      <td>1.0</td>\n",
       "      <td>1.0</td>\n",
       "      <td>1.0</td>\n",
       "      <td>6.70</td>\n",
       "      <td>NaN</td>\n",
       "      <td>648</td>\n",
       "      <td>54</td>\n",
       "      <td>2016</td>\n",
       "      <td>20.0</td>\n",
       "    </tr>\n",
       "    <tr>\n",
       "      <th>1</th>\n",
       "      <td>0</td>\n",
       "      <td>0</td>\n",
       "      <td>2011.0</td>\n",
       "      <td>0.0</td>\n",
       "      <td>NaN</td>\n",
       "      <td>0.0</td>\n",
       "      <td>M</td>\n",
       "      <td>NaN</td>\n",
       "      <td>Goiânia</td>\n",
       "      <td>Goiás</td>\n",
       "      <td>...</td>\n",
       "      <td>2.0</td>\n",
       "      <td>3.0</td>\n",
       "      <td>3.0</td>\n",
       "      <td>3.0</td>\n",
       "      <td>10.00</td>\n",
       "      <td>NaN</td>\n",
       "      <td>648</td>\n",
       "      <td>54</td>\n",
       "      <td>2016</td>\n",
       "      <td>21.0</td>\n",
       "    </tr>\n",
       "  </tbody>\n",
       "</table>\n",
       "<p>2 rows × 21 columns</p>\n",
       "</div>"
      ],
      "text/plain": [
       "   SIT_MATRICULA  RENDA_FAMILIAR  ANO_CONCLUSAO_2_GRAU  RENDA_PER_CAPITA  \\\n",
       "0              0               4                2014.0               NaN   \n",
       "1              0               0                2011.0               0.0   \n",
       "\n",
       "  COD_ESTADO_CIVIL  N_FILHOS SEXO PROFISSAO DESC_CIDADE DESC_ESTADO  \\\n",
       "0                S       NaN    M       NaN     Goiânia       Goiás   \n",
       "1              NaN       0.0    M       NaN     Goiânia       Goiás   \n",
       "\n",
       "        ...       NIVEL_FALA  NIVEL_COMPREENSAO  NIVEL_ESCRITA  NIVEL_LEITURA  \\\n",
       "0       ...              1.0                1.0            1.0            1.0   \n",
       "1       ...              2.0                3.0            3.0            3.0   \n",
       "\n",
       "   NOTAS N_FALTAS  COD_DISCIPLINA  CARGA_HOR  ANO_INGRESSO  IDADE_INGRESSO  \n",
       "0   6.70      NaN             648         54          2016            20.0  \n",
       "1  10.00      NaN             648         54          2016            21.0  \n",
       "\n",
       "[2 rows x 21 columns]"
      ]
     },
     "execution_count": 243,
     "metadata": {},
     "output_type": "execute_result"
    }
   ],
   "source": [
    "df.drop('TIPO_ESCOLA_ORIGEM', axis=1, inplace=True)\n",
    "df.head(2)"
   ]
  },
  {
   "cell_type": "markdown",
   "metadata": {},
   "source": [
    "#### Campo Cod. Estado Civil"
   ]
  },
  {
   "cell_type": "code",
   "execution_count": 244,
   "metadata": {
    "collapsed": false
   },
   "outputs": [
    {
     "data": {
      "text/plain": [
       "array(['S', nan, 'C', 'UE'], dtype=object)"
      ]
     },
     "execution_count": 244,
     "metadata": {},
     "output_type": "execute_result"
    }
   ],
   "source": [
    "df.COD_ESTADO_CIVIL.unique()"
   ]
  },
  {
   "cell_type": "code",
   "execution_count": 245,
   "metadata": {
    "collapsed": false
   },
   "outputs": [
    {
     "data": {
      "text/plain": [
       "S     17443\n",
       "C      1158\n",
       "UE       67\n",
       "Name: COD_ESTADO_CIVIL, dtype: int64"
      ]
     },
     "execution_count": 245,
     "metadata": {},
     "output_type": "execute_result"
    }
   ],
   "source": [
    "df.COD_ESTADO_CIVIL.value_counts()"
   ]
  },
  {
   "cell_type": "code",
   "execution_count": 246,
   "metadata": {
    "collapsed": false
   },
   "outputs": [
    {
     "data": {
      "text/plain": [
       "18668"
      ]
     },
     "execution_count": 246,
     "metadata": {},
     "output_type": "execute_result"
    }
   ],
   "source": [
    "17443 + 1158 + 67"
   ]
  },
  {
   "cell_type": "code",
   "execution_count": 247,
   "metadata": {
    "collapsed": false
   },
   "outputs": [
    {
     "data": {
      "text/plain": [
       "2102"
      ]
     },
     "execution_count": 247,
     "metadata": {},
     "output_type": "execute_result"
    }
   ],
   "source": [
    "## campos nulos\n",
    "len(df.COD_ESTADO_CIVIL) - 18668"
   ]
  },
  {
   "cell_type": "markdown",
   "metadata": {},
   "source": [
    "Mesmo realizando o tratamento dos campos nulos, a quantidade de alunos solteiros é bem maior que as outras"
   ]
  },
  {
   "cell_type": "markdown",
   "metadata": {},
   "source": [
    "-O estado civil do aluno não afeta diretamente a avaliação final do mesmo <br>\n",
    "-Temos uma grande discrepancia entre solteiros = 17000; casados = 1158 e união estável = 67 <br>\n",
    "\n",
    "#### É possível realizar a binarização para solteiro e casado, porém, a quantidade de solteiros continuaria grande, não nos mostrando alguma informação escondida"
   ]
  },
  {
   "cell_type": "code",
   "execution_count": 248,
   "metadata": {
    "collapsed": false
   },
   "outputs": [],
   "source": [
    "df.drop('COD_ESTADO_CIVIL', axis=1, inplace=True)"
   ]
  },
  {
   "cell_type": "markdown",
   "metadata": {},
   "source": [
    "#### Campo N Filhos"
   ]
  },
  {
   "cell_type": "code",
   "execution_count": 249,
   "metadata": {
    "collapsed": false
   },
   "outputs": [
    {
     "data": {
      "text/plain": [
       "0.0    9393\n",
       "2.0     255\n",
       "1.0     165\n",
       "3.0      71\n",
       "4.0      37\n",
       "Name: N_FILHOS, dtype: int64"
      ]
     },
     "execution_count": 249,
     "metadata": {},
     "output_type": "execute_result"
    }
   ],
   "source": [
    "df.N_FILHOS.unique()\n",
    "df.N_FILHOS.value_counts()"
   ]
  },
  {
   "cell_type": "code",
   "execution_count": 250,
   "metadata": {
    "collapsed": true
   },
   "outputs": [],
   "source": [
    "df.loc[df['N_FILHOS'].isnull(), 'N_FILHOS'] = 0"
   ]
  },
  {
   "cell_type": "code",
   "execution_count": 251,
   "metadata": {
    "collapsed": false
   },
   "outputs": [],
   "source": [
    "df.loc[df.N_FILHOS == 0.0,'N_FILHOS'] = 0\n",
    "df.loc[df.N_FILHOS == 1.0,'N_FILHOS'] = 1\n",
    "df.loc[df.N_FILHOS == 2.0,'N_FILHOS'] = 1\n",
    "df.loc[df.N_FILHOS == 3.0,'N_FILHOS'] = 1\n",
    "df.loc[df.N_FILHOS == 4.0,'N_FILHOS'] = 1"
   ]
  },
  {
   "cell_type": "code",
   "execution_count": 252,
   "metadata": {
    "collapsed": true
   },
   "outputs": [],
   "source": [
    "df['N_FILHOS'] = df['N_FILHOS'].astype('int64')"
   ]
  },
  {
   "cell_type": "code",
   "execution_count": 253,
   "metadata": {
    "collapsed": false
   },
   "outputs": [
    {
     "data": {
      "text/plain": [
       "0"
      ]
     },
     "execution_count": 253,
     "metadata": {},
     "output_type": "execute_result"
    }
   ],
   "source": [
    "len(df.loc[df['N_FILHOS'].isnull(), 'N_FILHOS'])"
   ]
  },
  {
   "cell_type": "markdown",
   "metadata": {},
   "source": [
    "#### Campo Sexo"
   ]
  },
  {
   "cell_type": "code",
   "execution_count": 254,
   "metadata": {
    "collapsed": false
   },
   "outputs": [
    {
     "data": {
      "text/plain": [
       "M    17728\n",
       "F     3042\n",
       "Name: SEXO, dtype: int64"
      ]
     },
     "execution_count": 254,
     "metadata": {},
     "output_type": "execute_result"
    }
   ],
   "source": [
    "df.SEXO.unique()\n",
    "df.SEXO.value_counts()"
   ]
  },
  {
   "cell_type": "markdown",
   "metadata": {},
   "source": [
    "Este campo não possue registros nulos <br>\n",
    "Possivelmente ele é um campo obrigatório no cadastro <br>\n",
    "#### Realização da binarização para descoberta da correlação na tabela\n",
    "    0 = masculino\n",
    "    1 = feminino"
   ]
  },
  {
   "cell_type": "code",
   "execution_count": 255,
   "metadata": {
    "collapsed": false
   },
   "outputs": [
    {
     "data": {
      "text/plain": [
       "array([0, 1], dtype=object)"
      ]
     },
     "execution_count": 255,
     "metadata": {},
     "output_type": "execute_result"
    }
   ],
   "source": [
    "df.loc[df.SEXO == 'M','SEXO'] = 0\n",
    "df.loc[df.SEXO == 'F','SEXO'] = 1\n",
    "df.SEXO.unique()"
   ]
  },
  {
   "cell_type": "code",
   "execution_count": 256,
   "metadata": {
    "collapsed": false
   },
   "outputs": [
    {
     "data": {
      "text/plain": [
       "dtype('int64')"
      ]
     },
     "execution_count": 256,
     "metadata": {},
     "output_type": "execute_result"
    }
   ],
   "source": [
    "##transformação da coluna de objeto para inteiro\n",
    "df['SEXO'] = df['SEXO'].astype('int64')\n",
    "df.SIT_MATRICULA.dtypes"
   ]
  },
  {
   "cell_type": "code",
   "execution_count": 257,
   "metadata": {
    "collapsed": false
   },
   "outputs": [
    {
     "data": {
      "text/html": [
       "<div>\n",
       "<table border=\"1\" class=\"dataframe\">\n",
       "  <thead>\n",
       "    <tr style=\"text-align: right;\">\n",
       "      <th></th>\n",
       "      <th>SIT_MATRICULA</th>\n",
       "      <th>SEXO</th>\n",
       "    </tr>\n",
       "  </thead>\n",
       "  <tbody>\n",
       "    <tr>\n",
       "      <th>SIT_MATRICULA</th>\n",
       "      <td>1.000000</td>\n",
       "      <td>-0.013025</td>\n",
       "    </tr>\n",
       "    <tr>\n",
       "      <th>SEXO</th>\n",
       "      <td>-0.013025</td>\n",
       "      <td>1.000000</td>\n",
       "    </tr>\n",
       "  </tbody>\n",
       "</table>\n",
       "</div>"
      ],
      "text/plain": [
       "               SIT_MATRICULA      SEXO\n",
       "SIT_MATRICULA       1.000000 -0.013025\n",
       "SEXO               -0.013025  1.000000"
      ]
     },
     "execution_count": 257,
     "metadata": {},
     "output_type": "execute_result"
    }
   ],
   "source": [
    "df.loc[:, ['SIT_MATRICULA', 'SEXO']].corr(method='spearman')"
   ]
  },
  {
   "cell_type": "markdown",
   "metadata": {},
   "source": [
    "#### Campo Desc Cidade"
   ]
  },
  {
   "cell_type": "code",
   "execution_count": 258,
   "metadata": {
    "collapsed": false
   },
   "outputs": [
    {
     "data": {
      "text/plain": [
       "array(['Goiânia', 'Goiania', 'Trindade', 'Parauapebas', 'Inhumas',\n",
       "       'Itapuranga', 'Aparecida de Goiânia', 'Caiapônia', 'Anápolis',\n",
       "       'Gurupi', 'Senador Canedo', 'Palmas', 'Barro Alto', 'Ceres',\n",
       "       'Iporá', 'Nerópolis', 'Minaçu', 'Imperatriz',\n",
       "       'Santo Antônio de Goiás', 'Jataí', 'Goiás', 'Varjão', 'Orizona',\n",
       "       'Santa Rosa (formosa)', 'Cidade de Goiás', 'Alto Paraíso de Goiás',\n",
       "       'Santa Helena de Goiás', 'Bela Vista de Goiás', 'Rio Verde',\n",
       "       'Bom Jesus de Goiás', 'Aragoiânia', 'Araguari', 'Uruaçu', 'Anicuns',\n",
       "       'São Miguel do Araguaia', 'Guapó'], dtype=object)"
      ]
     },
     "execution_count": 258,
     "metadata": {},
     "output_type": "execute_result"
    }
   ],
   "source": [
    "df.DESC_CIDADE.unique()"
   ]
  },
  {
   "cell_type": "markdown",
   "metadata": {},
   "source": [
    "Deve ser criada uma função onde, os valores goiania e goias se mesclem aos valores parecidos dentro da coluna de cidades <br>\n",
    "A unica diferença entre os mesmo, são as acentuações, não tendo necessidade em mante-los"
   ]
  },
  {
   "cell_type": "code",
   "execution_count": 259,
   "metadata": {
    "collapsed": false
   },
   "outputs": [
    {
     "data": {
      "text/plain": [
       "array(['Goiânia', 'Trindade', 'Parauapebas', 'Inhumas', 'Itapuranga',\n",
       "       'Aparecida de Goiânia', 'Caiapônia', 'Anápolis', 'Gurupi',\n",
       "       'Senador Canedo', 'Palmas', 'Barro Alto', 'Ceres', 'Iporá',\n",
       "       'Nerópolis', 'Minaçu', 'Imperatriz', 'Santo Antônio de Goiás',\n",
       "       'Jataí', 'Cidade de Goiás', 'Varjão', 'Orizona',\n",
       "       'Santa Rosa (formosa)', 'Alto Paraíso de Goiás',\n",
       "       'Santa Helena de Goiás', 'Bela Vista de Goiás', 'Rio Verde',\n",
       "       'Bom Jesus de Goiás', 'Aragoiânia', 'Araguari', 'Uruaçu', 'Anicuns',\n",
       "       'São Miguel do Araguaia', 'Guapó'], dtype=object)"
      ]
     },
     "execution_count": 259,
     "metadata": {},
     "output_type": "execute_result"
    }
   ],
   "source": [
    "def agrupa_cidades(var):\n",
    "    if(var == 'Goiania'):\n",
    "        var = 'Goiânia'\n",
    "        return var\n",
    "    if(var == 'Goiás'):\n",
    "        var = 'Cidade de Goiás'\n",
    "        return var\n",
    "    else:\n",
    "        return var\n",
    "    \n",
    "df.DESC_CIDADE = df.loc[:, 'DESC_CIDADE'].apply(agrupa_cidades)\n",
    "df.DESC_CIDADE.unique()"
   ]
  },
  {
   "cell_type": "code",
   "execution_count": 260,
   "metadata": {
    "collapsed": false
   },
   "outputs": [
    {
     "data": {
      "text/plain": [
       "array([0, 1, 4, 2, 3], dtype=int64)"
      ]
     },
     "execution_count": 260,
     "metadata": {},
     "output_type": "execute_result"
    }
   ],
   "source": [
    "df.loc[df['DESC_CIDADE'] == 'Goiânia' , 'DESC_CIDADE'] = 0\n",
    "\n",
    "df.loc[df['DESC_CIDADE'] == 'Trindade', 'DESC_CIDADE'] = 1\n",
    "df.loc[df['DESC_CIDADE'] == 'Aparecida de Goiânia', 'DESC_CIDADE'] = 1\n",
    "df.loc[df['DESC_CIDADE'] == 'Nerópolis', 'DESC_CIDADE'] = 1\n",
    "df.loc[df['DESC_CIDADE'] == 'Senador Canedo', 'DESC_CIDADE'] = 1\n",
    "df.loc[df['DESC_CIDADE'] == 'Santo Antônio de Goiás', 'DESC_CIDADE'] = 1\n",
    "\n",
    "df.loc[df['DESC_CIDADE'] == 'Anápolis', 'DESC_CIDADE'] = 2\n",
    "df.loc[df['DESC_CIDADE'] == 'Aragoiânia', 'DESC_CIDADE'] = 2\n",
    "df.loc[df['DESC_CIDADE'] == 'Guapó', 'DESC_CIDADE'] = 2\n",
    "df.loc[df['DESC_CIDADE'] == 'Bela Vista de Goiás', 'DESC_CIDADE'] = 2\n",
    "df.loc[df['DESC_CIDADE'] == 'Inhumas', 'DESC_CIDADE'] = 2\n",
    "df.loc[df['DESC_CIDADE'] == 'Anicuns', 'DESC_CIDADE'] = 2\n",
    "df.loc[df['DESC_CIDADE'] == 'Santa Rosa (formosa)', 'DESC_CIDADE'] = 2\n",
    "df.loc[df['DESC_CIDADE'] == 'Varjão', 'DESC_CIDADE'] = 2\n",
    "\n",
    "df.loc[df['DESC_CIDADE'] == 'Rio Verde', 'DESC_CIDADE'] = 3\n",
    "df.loc[df['DESC_CIDADE'] == 'Itapuranga', 'DESC_CIDADE'] = 3\n",
    "df.loc[df['DESC_CIDADE'] == 'Iporá', 'DESC_CIDADE'] = 3\n",
    "df.loc[df['DESC_CIDADE'] == 'Alto Paraíso de Goiás', 'DESC_CIDADE'] = 3\n",
    "df.loc[df['DESC_CIDADE'] == 'Ceres', 'DESC_CIDADE'] = 3\n",
    "df.loc[df['DESC_CIDADE'] == 'Uruaçu', 'DESC_CIDADE'] = 3\n",
    "df.loc[df['DESC_CIDADE'] == 'Orizona', 'DESC_CIDADE'] = 3\n",
    "df.loc[df['DESC_CIDADE'] == 'Minaçu', 'DESC_CIDADE'] = 3\n",
    "df.loc[df['DESC_CIDADE'] == 'Jataí', 'DESC_CIDADE'] = 3\n",
    "df.loc[df['DESC_CIDADE'] == 'Cidade de Goiás', 'DESC_CIDADE'] = 3\n",
    "df.loc[df['DESC_CIDADE'] == 'Santa Helena de Goiás', 'DESC_CIDADE'] = 3\n",
    "df.loc[df['DESC_CIDADE'] == 'Bom Jesus de Goiás', 'DESC_CIDADE'] = 3\n",
    "df.loc[df['DESC_CIDADE'] == 'São Miguel do Araguaia', 'DESC_CIDADE'] = 3\n",
    "df.loc[df['DESC_CIDADE'] == 'Itapuranga', 'DESC_CIDADE'] = 3\n",
    "df.loc[df['DESC_CIDADE'] == 'Caiapônia', 'DESC_CIDADE'] = 3\n",
    "df.loc[df['DESC_CIDADE'] == 'Barro Alto', 'DESC_CIDADE'] = 3\n",
    "\n",
    "df.loc[df['DESC_CIDADE'] == 'Imperatriz', 'DESC_CIDADE'] = 4\n",
    "df.loc[df['DESC_CIDADE'] == 'Palmas', 'DESC_CIDADE'] = 4\n",
    "df.loc[df['DESC_CIDADE'] == 'Parauapebas', 'DESC_CIDADE'] = 4\n",
    "df.loc[df['DESC_CIDADE'] == 'Gurupi', 'DESC_CIDADE'] = 4\n",
    "df.loc[df['DESC_CIDADE'] == 'Araguari', 'DESC_CIDADE'] = 4\n",
    "\n",
    "df['DESC_CIDADE']= df['DESC_CIDADE'].astype('int64')\n",
    "df.DESC_CIDADE.unique()"
   ]
  },
  {
   "cell_type": "markdown",
   "metadata": {},
   "source": [
    "#### Campo Desc Estado"
   ]
  },
  {
   "cell_type": "code",
   "execution_count": 261,
   "metadata": {
    "collapsed": false
   },
   "outputs": [
    {
     "data": {
      "text/plain": [
       "Goiás           20265\n",
       "Maranhão          202\n",
       "Ceará             141\n",
       "Minas Gerais       65\n",
       "--                 53\n",
       "Tocantins          43\n",
       "Pará                1\n",
       "Name: DESC_ESTADO, dtype: int64"
      ]
     },
     "execution_count": 261,
     "metadata": {},
     "output_type": "execute_result"
    }
   ],
   "source": [
    "df.DESC_ESTADO.unique()\n",
    "df.DESC_ESTADO.value_counts()"
   ]
  },
  {
   "cell_type": "markdown",
   "metadata": {},
   "source": [
    "Cidades e seus estados: <br>\n",
    "    Parauapebas - Pará <br>\n",
    "    Palmas - Tocantins <br>\n",
    "    Araguari - Minas Gerais <br>\n",
    "    Imperatriz - Maranhão"
   ]
  },
  {
   "cell_type": "markdown",
   "metadata": {},
   "source": [
    "A quantidade de alunos no estado de Goiás é altamente discrepante em relação aos outros estados <br>\n",
    "Dos 20.770 registros, 20.265 são de Goiás, Goiás representa a maioria das cidades cadastras na coluna cidades <br>\n",
    "#### Será desconsiderada do frame"
   ]
  },
  {
   "cell_type": "code",
   "execution_count": 262,
   "metadata": {
    "collapsed": false
   },
   "outputs": [
    {
     "data": {
      "text/html": [
       "<div>\n",
       "<table border=\"1\" class=\"dataframe\">\n",
       "  <thead>\n",
       "    <tr style=\"text-align: right;\">\n",
       "      <th></th>\n",
       "      <th>SIT_MATRICULA</th>\n",
       "      <th>RENDA_FAMILIAR</th>\n",
       "      <th>ANO_CONCLUSAO_2_GRAU</th>\n",
       "      <th>RENDA_PER_CAPITA</th>\n",
       "      <th>N_FILHOS</th>\n",
       "      <th>SEXO</th>\n",
       "      <th>PROFISSAO</th>\n",
       "      <th>DESC_CIDADE</th>\n",
       "      <th>DESC_IDIOMA</th>\n",
       "      <th>NIVEL_FALA</th>\n",
       "      <th>NIVEL_COMPREENSAO</th>\n",
       "      <th>NIVEL_ESCRITA</th>\n",
       "      <th>NIVEL_LEITURA</th>\n",
       "      <th>NOTAS</th>\n",
       "      <th>N_FALTAS</th>\n",
       "      <th>COD_DISCIPLINA</th>\n",
       "      <th>CARGA_HOR</th>\n",
       "      <th>ANO_INGRESSO</th>\n",
       "      <th>IDADE_INGRESSO</th>\n",
       "    </tr>\n",
       "  </thead>\n",
       "  <tbody>\n",
       "    <tr>\n",
       "      <th>0</th>\n",
       "      <td>0</td>\n",
       "      <td>4</td>\n",
       "      <td>2014.0</td>\n",
       "      <td>NaN</td>\n",
       "      <td>0</td>\n",
       "      <td>0</td>\n",
       "      <td>NaN</td>\n",
       "      <td>0</td>\n",
       "      <td>Espanhol</td>\n",
       "      <td>1.0</td>\n",
       "      <td>1.0</td>\n",
       "      <td>1.0</td>\n",
       "      <td>1.0</td>\n",
       "      <td>6.70</td>\n",
       "      <td>NaN</td>\n",
       "      <td>648</td>\n",
       "      <td>54</td>\n",
       "      <td>2016</td>\n",
       "      <td>20.0</td>\n",
       "    </tr>\n",
       "    <tr>\n",
       "      <th>1</th>\n",
       "      <td>0</td>\n",
       "      <td>0</td>\n",
       "      <td>2011.0</td>\n",
       "      <td>0.0</td>\n",
       "      <td>0</td>\n",
       "      <td>0</td>\n",
       "      <td>NaN</td>\n",
       "      <td>0</td>\n",
       "      <td>Inglês</td>\n",
       "      <td>2.0</td>\n",
       "      <td>3.0</td>\n",
       "      <td>3.0</td>\n",
       "      <td>3.0</td>\n",
       "      <td>10.00</td>\n",
       "      <td>NaN</td>\n",
       "      <td>648</td>\n",
       "      <td>54</td>\n",
       "      <td>2016</td>\n",
       "      <td>21.0</td>\n",
       "    </tr>\n",
       "  </tbody>\n",
       "</table>\n",
       "</div>"
      ],
      "text/plain": [
       "   SIT_MATRICULA  RENDA_FAMILIAR  ANO_CONCLUSAO_2_GRAU  RENDA_PER_CAPITA  \\\n",
       "0              0               4                2014.0               NaN   \n",
       "1              0               0                2011.0               0.0   \n",
       "\n",
       "   N_FILHOS  SEXO PROFISSAO  DESC_CIDADE DESC_IDIOMA  NIVEL_FALA  \\\n",
       "0         0     0       NaN            0    Espanhol         1.0   \n",
       "1         0     0       NaN            0      Inglês         2.0   \n",
       "\n",
       "   NIVEL_COMPREENSAO  NIVEL_ESCRITA  NIVEL_LEITURA  NOTAS  N_FALTAS  \\\n",
       "0                1.0            1.0            1.0   6.70       NaN   \n",
       "1                3.0            3.0            3.0  10.00       NaN   \n",
       "\n",
       "   COD_DISCIPLINA  CARGA_HOR  ANO_INGRESSO  IDADE_INGRESSO  \n",
       "0             648         54          2016            20.0  \n",
       "1             648         54          2016            21.0  "
      ]
     },
     "execution_count": 262,
     "metadata": {},
     "output_type": "execute_result"
    }
   ],
   "source": [
    "df.drop('DESC_ESTADO', axis=1, inplace=True)\n",
    "df.head(2)"
   ]
  },
  {
   "cell_type": "markdown",
   "metadata": {},
   "source": [
    "#### Campo Notas"
   ]
  },
  {
   "cell_type": "code",
   "execution_count": 263,
   "metadata": {
    "collapsed": false
   },
   "outputs": [
    {
     "data": {
      "text/plain": [
       "array(['6.70', '10.00', '0.00', '1.30', '8.00', '0.50', '6.60', '0.70',\n",
       "       '06/10/2016', '8.80', '09/10/2016', '6.00', '7.20', '7.30', '7.00',\n",
       "       '7.50', '7.60', '8.50', '6.50', '5.70', '5.20', '7.90',\n",
       "       '08/10/2016', '07/10/2016', '9.50', '7.70', '6.20', '5.00', '4.20',\n",
       "       '5.60', '5.30', '5.80', '5.40', '9.70', '2.60', '9.00',\n",
       "       '05/10/2016', '1.00', '5.90', '5.50', '1.50', '6.90', '7.80',\n",
       "       '6.30', '6.80', '4.50', '6.40', '7.40', '9.60', '9.40', '8.90',\n",
       "       '8.60', '3.20', '0.80', '8.40', '8.30', nan, '9.20', '4.80', '3.30',\n",
       "       '3.50', '3.70', '2.30', '2.70', '8.70', '2.00', '9.80', '3.90',\n",
       "       '2.50', '3.80', '9.90', '0.30', '4.60', '4.00', '1.40', '1.20',\n",
       "       '1.90', '0.90', '1.80', '3.60', '01/10/2016', '1.60', '8.20',\n",
       "       '2.20', '2.80', '9.30', '0.40', '0.10', '2.40', '4.70', '0.20',\n",
       "       '4.40', '04/10/2016', '3.00', '4.90', '4.30', '1.70', '2.90',\n",
       "       '3.40', '03/10/2016', '0.60', '02/10/2016', '80.00', '60.00'], dtype=object)"
      ]
     },
     "execution_count": 263,
     "metadata": {},
     "output_type": "execute_result"
    }
   ],
   "source": [
    "df.NOTAS.unique()\n",
    "## Quantidade exacerbada de valores errôneos e registros feitos de maneira incorreta"
   ]
  },
  {
   "cell_type": "code",
   "execution_count": 264,
   "metadata": {
    "collapsed": false
   },
   "outputs": [],
   "source": [
    "## É realizada a busca do indice das notas de cada aluno, onde as mesmas possuão barras de endereço relacionadas a 'data'\n",
    "## Separadas em um objeto, elas devem ser excluídas da base\n",
    "\n",
    "indice = df[df['NOTAS'].str.contains(\"/\", na=False)].index\n",
    "df.drop(indice, inplace=True)"
   ]
  },
  {
   "cell_type": "code",
   "execution_count": 265,
   "metadata": {
    "collapsed": false
   },
   "outputs": [
    {
     "data": {
      "text/plain": [
       "dtype('float64')"
      ]
     },
     "execution_count": 265,
     "metadata": {},
     "output_type": "execute_result"
    }
   ],
   "source": [
    "##Transformando a coluna notas em float\n",
    "## A mesma deve ser float, pois o uso de decimais é importante durante as avaliações\n",
    "df['NOTAS']= df['NOTAS'].astype('float64')\n",
    "df.NOTAS.dtype"
   ]
  },
  {
   "cell_type": "code",
   "execution_count": 266,
   "metadata": {
    "collapsed": false
   },
   "outputs": [
    {
     "data": {
      "text/plain": [
       "105"
      ]
     },
     "execution_count": 266,
     "metadata": {},
     "output_type": "execute_result"
    }
   ],
   "source": [
    "## Buscando a quantidade de nulos\n",
    "len(df.loc[df.NOTAS.isnull(),'NOTAS'])"
   ]
  },
  {
   "cell_type": "code",
   "execution_count": 267,
   "metadata": {
    "collapsed": false
   },
   "outputs": [
    {
     "data": {
      "text/plain": [
       "array([  6.7,  10. ,   0. ,   1.3,   8. ,   0.5,   6.6,   0.7,   8.8,\n",
       "         6. ,   7.2,   7.3,   7. ,   7.5,   7.6,   8.5,   6.5,   5.7,\n",
       "         5.2,   7.9,   9.5,   7.7,   6.2,   5. ,   4.2,   5.6,   5.3,\n",
       "         5.8,   5.4,   9.7,   2.6,   9. ,   1. ,   5.9,   5.5,   1.5,\n",
       "         6.9,   7.8,   6.3,   6.8,   4.5,   6.4,   7.4,   9.6,   9.4,\n",
       "         8.9,   8.6,   3.2,   0.8,   8.4,   8.3,   9.2,   4.8,   3.3,\n",
       "         3.5,   3.7,   2.3,   2.7,   8.7,   2. ,   9.8,   3.9,   2.5,\n",
       "         3.8,   9.9,   0.3,   4.6,   4. ,   1.4,   1.2,   1.9,   0.9,\n",
       "         1.8,   3.6,   1.6,   8.2,   2.2,   2.8,   9.3,   0.4,   0.1,\n",
       "         2.4,   4.7,   0.2,   4.4,   3. ,   4.9,   4.3,   1.7,   2.9,\n",
       "         3.4,   0.6,  80. ,  60. ])"
      ]
     },
     "execution_count": 267,
     "metadata": {},
     "output_type": "execute_result"
    }
   ],
   "source": [
    "## As notas nulas, serão substituidas por zero\n",
    "\n",
    "df.loc[df.NOTAS.isnull(),'NOTAS'] = 0\n",
    "df.NOTAS.unique()"
   ]
  },
  {
   "cell_type": "markdown",
   "metadata": {},
   "source": [
    "#### É criada uma função, onde é verificadas as notas acima de dez\n",
    "    Para que o valor seja dividido e encaixado no intervalo considerável de 0.0 até 10.0"
   ]
  },
  {
   "cell_type": "code",
   "execution_count": 268,
   "metadata": {
    "collapsed": false
   },
   "outputs": [
    {
     "data": {
      "text/plain": [
       "array([  6.7,  10. ,   0. ,   1.3,   8. ,   0.5,   6.6,   0.7,   8.8,\n",
       "         6. ,   7.2,   7.3,   7. ,   7.5,   7.6,   8.5,   6.5,   5.7,\n",
       "         5.2,   7.9,   9.5,   7.7,   6.2,   5. ,   4.2,   5.6,   5.3,\n",
       "         5.8,   5.4,   9.7,   2.6,   9. ,   1. ,   5.9,   5.5,   1.5,\n",
       "         6.9,   7.8,   6.3,   6.8,   4.5,   6.4,   7.4,   9.6,   9.4,\n",
       "         8.9,   8.6,   3.2,   0.8,   8.4,   8.3,   9.2,   4.8,   3.3,\n",
       "         3.5,   3.7,   2.3,   2.7,   8.7,   2. ,   9.8,   3.9,   2.5,\n",
       "         3.8,   9.9,   0.3,   4.6,   4. ,   1.4,   1.2,   1.9,   0.9,\n",
       "         1.8,   3.6,   1.6,   8.2,   2.2,   2.8,   9.3,   0.4,   0.1,\n",
       "         2.4,   4.7,   0.2,   4.4,   3. ,   4.9,   4.3,   1.7,   2.9,\n",
       "         3.4,   0.6])"
      ]
     },
     "execution_count": 268,
     "metadata": {},
     "output_type": "execute_result"
    }
   ],
   "source": [
    "def maior_que_dez(x):\n",
    "    if(x>10):\n",
    "        return x/10\n",
    "    else:\n",
    "        return x\n",
    "\n",
    "df.NOTAS = df.loc[:,'NOTAS'].apply(maior_que_dez)  \n",
    "df.NOTAS.unique()"
   ]
  },
  {
   "cell_type": "markdown",
   "metadata": {
    "collapsed": false
   },
   "source": [
    "#### Campo Idade Ingresso"
   ]
  },
  {
   "cell_type": "code",
   "execution_count": 269,
   "metadata": {
    "collapsed": false
   },
   "outputs": [
    {
     "data": {
      "text/plain": [
       "array([ 20.,  21.,  18.,  22.,  19.,  17.,  23.,  27.,  25.,  29.,  26.,\n",
       "        30.,  24.,  51.,  16.,  34.,  28.,  50.,  35.,  32.,  43.,  31.,\n",
       "        39.,  37.,  36.,  48.,  41.,  56.,  44.,  33.,  53.])"
      ]
     },
     "execution_count": 269,
     "metadata": {},
     "output_type": "execute_result"
    }
   ],
   "source": [
    "df.IDADE_INGRESSO.unique()\n",
    "##df.IDADE_INGRESSO.value_counts()"
   ]
  },
  {
   "cell_type": "code",
   "execution_count": 270,
   "metadata": {
    "collapsed": false
   },
   "outputs": [
    {
     "data": {
      "text/plain": [
       "0"
      ]
     },
     "execution_count": 270,
     "metadata": {},
     "output_type": "execute_result"
    }
   ],
   "source": [
    "##Busca por nulos\n",
    "\n",
    "len(df.loc[df.IDADE_INGRESSO.isnull(),'IDADE_INGRESSO'])"
   ]
  },
  {
   "cell_type": "code",
   "execution_count": 271,
   "metadata": {
    "collapsed": false
   },
   "outputs": [
    {
     "data": {
      "text/plain": [
       "dtype('int64')"
      ]
     },
     "execution_count": 271,
     "metadata": {},
     "output_type": "execute_result"
    }
   ],
   "source": [
    "df['IDADE_INGRESSO'] = df['IDADE_INGRESSO'].astype('int64')\n",
    "\n",
    "df.IDADE_INGRESSO.dtype"
   ]
  },
  {
   "cell_type": "markdown",
   "metadata": {},
   "source": [
    "#### Este campo será mantido por manter boa correlação com a renda familiar"
   ]
  },
  {
   "cell_type": "markdown",
   "metadata": {},
   "source": [
    "### 1) Nivel de Fala, Compreensão e Idioma apenas com o valor 'ingles'"
   ]
  },
  {
   "cell_type": "markdown",
   "metadata": {},
   "source": [
    "#### Campo Desc Idioma || Campo Nivel Fala || Campo Nivel Compreensao || Campo Nivel Escrita || Campo Nivel Leitura"
   ]
  },
  {
   "cell_type": "code",
   "execution_count": 272,
   "metadata": {
    "collapsed": false
   },
   "outputs": [
    {
     "data": {
      "text/plain": [
       "Inglês      8451\n",
       "Espanhol    2333\n",
       "Alemão       252\n",
       "Francês      208\n",
       "Name: DESC_IDIOMA, dtype: int64"
      ]
     },
     "execution_count": 272,
     "metadata": {},
     "output_type": "execute_result"
    }
   ],
   "source": [
    "df.DESC_IDIOMA.unique()\n",
    "df.DESC_IDIOMA.value_counts()"
   ]
  },
  {
   "cell_type": "code",
   "execution_count": 273,
   "metadata": {
    "collapsed": false
   },
   "outputs": [
    {
     "data": {
      "text/plain": [
       "8253"
      ]
     },
     "execution_count": 273,
     "metadata": {},
     "output_type": "execute_result"
    }
   ],
   "source": [
    "## Nulos\n",
    "len(df.loc[df.DESC_IDIOMA.isnull(),'DESC_IDIOMA'])"
   ]
  },
  {
   "cell_type": "markdown",
   "metadata": {},
   "source": [
    "#### Descaracterização dos dados\n",
    "            Espanhol = 2\n",
    "            Ingles = 1\n",
    "            Alemao = 3\n",
    "            Frances = 4"
   ]
  },
  {
   "cell_type": "markdown",
   "metadata": {},
   "source": [
    "#### Idioma: 1 = Inglês\n",
    "        Níveis relacionados ao idioma:\n",
    "            1 = Básico\n",
    "            2 = Intermediário\n",
    "            3 = Avançado"
   ]
  },
  {
   "cell_type": "code",
   "execution_count": 274,
   "metadata": {
    "collapsed": false
   },
   "outputs": [
    {
     "data": {
      "text/plain": [
       "array([2, 1, nan, 3, 4], dtype=object)"
      ]
     },
     "execution_count": 274,
     "metadata": {},
     "output_type": "execute_result"
    }
   ],
   "source": [
    "df.loc[df['DESC_IDIOMA'] == 'Inglês' , 'DESC_IDIOMA'] = 1 \n",
    "df.loc[df['DESC_IDIOMA'] == 'Espanhol' , 'DESC_IDIOMA'] = 2\n",
    "df.loc[df['DESC_IDIOMA'] == 'Alemão' , 'DESC_IDIOMA'] = 3\n",
    "df.loc[df['DESC_IDIOMA'] == 'Francês' , 'DESC_IDIOMA'] = 4\n",
    "\n",
    "df.DESC_IDIOMA.unique()"
   ]
  },
  {
   "cell_type": "code",
   "execution_count": 275,
   "metadata": {
    "collapsed": false
   },
   "outputs": [],
   "source": [
    "df.loc[df.DESC_IDIOMA.isnull(),'DESC_IDIOMA'] = 1"
   ]
  },
  {
   "cell_type": "code",
   "execution_count": 276,
   "metadata": {
    "collapsed": true
   },
   "outputs": [],
   "source": [
    "df.loc[df.NIVEL_COMPREENSAO.isnull(),'NIVEL_COMPREENSAO'] = 0\n",
    "df.loc[df.NIVEL_ESCRITA.isnull(),'NIVEL_ESCRITA'] = 0\n",
    "df.loc[df.NIVEL_FALA.isnull(),'NIVEL_FALA'] = 0\n",
    "df.loc[df.NIVEL_LEITURA.isnull(),'NIVEL_LEITURA'] = 0"
   ]
  },
  {
   "cell_type": "code",
   "execution_count": 277,
   "metadata": {
    "collapsed": false
   },
   "outputs": [],
   "source": [
    "## convertendo os idiomas de float para inteiro\n",
    "\n",
    "df['NIVEL_COMPREENSAO']= df['NIVEL_COMPREENSAO'].astype('int64')\n",
    "df['NIVEL_ESCRITA']= df['NIVEL_ESCRITA'].astype('int64')\n",
    "df['NIVEL_FALA']= df['NIVEL_FALA'].astype('int64')\n",
    "df['NIVEL_LEITURA']= df['NIVEL_LEITURA'].astype('int64')"
   ]
  },
  {
   "cell_type": "code",
   "execution_count": 278,
   "metadata": {
    "collapsed": false
   },
   "outputs": [
    {
     "data": {
      "text/plain": [
       "1    16704\n",
       "2     2333\n",
       "3      252\n",
       "4      208\n",
       "Name: DESC_IDIOMA, dtype: int64"
      ]
     },
     "execution_count": 278,
     "metadata": {},
     "output_type": "execute_result"
    }
   ],
   "source": [
    "df.DESC_IDIOMA.value_counts()"
   ]
  },
  {
   "cell_type": "markdown",
   "metadata": {},
   "source": [
    "### 2)- Codigo da disciplina é um ID, os ids geram ruído, favor retirar;"
   ]
  },
  {
   "cell_type": "markdown",
   "metadata": {},
   "source": [
    "#### Código da Disciplina"
   ]
  },
  {
   "cell_type": "code",
   "execution_count": 279,
   "metadata": {
    "collapsed": false
   },
   "outputs": [
    {
     "data": {
      "text/plain": [
       "array([  648,  7015,  7588,  8028,  8255,  8514,  8518,  8555,  8562,\n",
       "        8587,  8595,  8609,  8652,  8654,  8754,  8773,  8776,  8786,\n",
       "        8810,  8828,  9108,  9109,  9110,  9111,  9112,  9113,  9114,\n",
       "        9116,  9117,  9118,  9121,  9122,  9124,  9125,  9127,  9129,\n",
       "        9132,  9133,  9134,  9135,  9136,  9139,  9145,  9146,  9147,\n",
       "        9148,  9150,  9152,  9225, 10945, 14609, 16587, 16588, 16604,\n",
       "       16758, 17037, 17385, 17386, 17387, 17415, 17425, 17426, 17427,\n",
       "       17428, 18055, 18056, 19128, 19129, 19138, 19139, 19140, 20343,\n",
       "       21103, 21363, 21819, 21821, 22559, 22560, 22561, 22562, 22563,\n",
       "       22564, 22649, 22650, 22651, 23775, 24371], dtype=int64)"
      ]
     },
     "execution_count": 279,
     "metadata": {},
     "output_type": "execute_result"
    }
   ],
   "source": [
    "df.COD_DISCIPLINA.unique()"
   ]
  },
  {
   "cell_type": "markdown",
   "metadata": {},
   "source": [
    "#### Por ser um ID, o mesmo será retirado"
   ]
  },
  {
   "cell_type": "code",
   "execution_count": 280,
   "metadata": {
    "collapsed": false
   },
   "outputs": [
    {
     "data": {
      "text/html": [
       "<div>\n",
       "<table border=\"1\" class=\"dataframe\">\n",
       "  <thead>\n",
       "    <tr style=\"text-align: right;\">\n",
       "      <th></th>\n",
       "      <th>SIT_MATRICULA</th>\n",
       "      <th>RENDA_FAMILIAR</th>\n",
       "      <th>ANO_CONCLUSAO_2_GRAU</th>\n",
       "      <th>RENDA_PER_CAPITA</th>\n",
       "      <th>N_FILHOS</th>\n",
       "      <th>SEXO</th>\n",
       "      <th>PROFISSAO</th>\n",
       "      <th>DESC_CIDADE</th>\n",
       "      <th>DESC_IDIOMA</th>\n",
       "      <th>NIVEL_FALA</th>\n",
       "      <th>NIVEL_COMPREENSAO</th>\n",
       "      <th>NIVEL_ESCRITA</th>\n",
       "      <th>NIVEL_LEITURA</th>\n",
       "      <th>NOTAS</th>\n",
       "      <th>N_FALTAS</th>\n",
       "      <th>CARGA_HOR</th>\n",
       "      <th>ANO_INGRESSO</th>\n",
       "      <th>IDADE_INGRESSO</th>\n",
       "    </tr>\n",
       "  </thead>\n",
       "  <tbody>\n",
       "    <tr>\n",
       "      <th>0</th>\n",
       "      <td>0</td>\n",
       "      <td>4</td>\n",
       "      <td>2014.0</td>\n",
       "      <td>NaN</td>\n",
       "      <td>0</td>\n",
       "      <td>0</td>\n",
       "      <td>NaN</td>\n",
       "      <td>0</td>\n",
       "      <td>2</td>\n",
       "      <td>1</td>\n",
       "      <td>1</td>\n",
       "      <td>1</td>\n",
       "      <td>1</td>\n",
       "      <td>6.7</td>\n",
       "      <td>NaN</td>\n",
       "      <td>54</td>\n",
       "      <td>2016</td>\n",
       "      <td>20</td>\n",
       "    </tr>\n",
       "    <tr>\n",
       "      <th>1</th>\n",
       "      <td>0</td>\n",
       "      <td>0</td>\n",
       "      <td>2011.0</td>\n",
       "      <td>0.0</td>\n",
       "      <td>0</td>\n",
       "      <td>0</td>\n",
       "      <td>NaN</td>\n",
       "      <td>0</td>\n",
       "      <td>1</td>\n",
       "      <td>2</td>\n",
       "      <td>3</td>\n",
       "      <td>3</td>\n",
       "      <td>3</td>\n",
       "      <td>10.0</td>\n",
       "      <td>NaN</td>\n",
       "      <td>54</td>\n",
       "      <td>2016</td>\n",
       "      <td>21</td>\n",
       "    </tr>\n",
       "  </tbody>\n",
       "</table>\n",
       "</div>"
      ],
      "text/plain": [
       "   SIT_MATRICULA  RENDA_FAMILIAR  ANO_CONCLUSAO_2_GRAU  RENDA_PER_CAPITA  \\\n",
       "0              0               4                2014.0               NaN   \n",
       "1              0               0                2011.0               0.0   \n",
       "\n",
       "   N_FILHOS  SEXO PROFISSAO  DESC_CIDADE DESC_IDIOMA  NIVEL_FALA  \\\n",
       "0         0     0       NaN            0           2           1   \n",
       "1         0     0       NaN            0           1           2   \n",
       "\n",
       "   NIVEL_COMPREENSAO  NIVEL_ESCRITA  NIVEL_LEITURA  NOTAS  N_FALTAS  \\\n",
       "0                  1              1              1    6.7       NaN   \n",
       "1                  3              3              3   10.0       NaN   \n",
       "\n",
       "   CARGA_HOR  ANO_INGRESSO  IDADE_INGRESSO  \n",
       "0         54          2016              20  \n",
       "1         54          2016              21  "
      ]
     },
     "execution_count": 280,
     "metadata": {},
     "output_type": "execute_result"
    }
   ],
   "source": [
    "df.drop('COD_DISCIPLINA', axis=1, inplace=True)\n",
    "df.head(2)"
   ]
  },
  {
   "cell_type": "markdown",
   "metadata": {},
   "source": [
    "### 3)- Limpeza de 'Renda per capita' parecida com 'renda familiar'"
   ]
  },
  {
   "cell_type": "code",
   "execution_count": 281,
   "metadata": {
    "collapsed": false
   },
   "outputs": [
    {
     "data": {
      "text/plain": [
       "10.0    6606\n",
       "0.0     2145\n",
       "3.0      789\n",
       "5.0      431\n",
       "1.0      335\n",
       "2.0      222\n",
       "4.0      216\n",
       "6.0       53\n",
       "7.0       41\n",
       "Name: RENDA_PER_CAPITA, dtype: int64"
      ]
     },
     "execution_count": 281,
     "metadata": {},
     "output_type": "execute_result"
    }
   ],
   "source": [
    "df.RENDA_PER_CAPITA.unique()\n",
    "df.RENDA_PER_CAPITA.value_counts()"
   ]
  },
  {
   "cell_type": "code",
   "execution_count": 282,
   "metadata": {
    "collapsed": false
   },
   "outputs": [
    {
     "data": {
      "text/plain": [
       "8659"
      ]
     },
     "execution_count": 282,
     "metadata": {},
     "output_type": "execute_result"
    }
   ],
   "source": [
    "len(df.loc[df.RENDA_PER_CAPITA.isnull(),'RENDA_PER_CAPITA'])"
   ]
  },
  {
   "cell_type": "code",
   "execution_count": 283,
   "metadata": {
    "collapsed": false
   },
   "outputs": [
    {
     "data": {
      "text/plain": [
       "8.378005291613942"
      ]
     },
     "execution_count": 283,
     "metadata": {},
     "output_type": "execute_result"
    }
   ],
   "source": [
    "capita_media = df.loc[(df['RENDA_PER_CAPITA']!=0) & (df['RENDA_PER_CAPITA'].notnull()), 'RENDA_PER_CAPITA'].mean()\n",
    "capita_media"
   ]
  },
  {
   "cell_type": "code",
   "execution_count": 284,
   "metadata": {
    "collapsed": false
   },
   "outputs": [
    {
     "data": {
      "text/plain": [
       "8"
      ]
     },
     "execution_count": 284,
     "metadata": {},
     "output_type": "execute_result"
    }
   ],
   "source": [
    "capita_media = round(capita_media)\n",
    "capita_media"
   ]
  },
  {
   "cell_type": "code",
   "execution_count": 285,
   "metadata": {
    "collapsed": false
   },
   "outputs": [
    {
     "data": {
      "text/plain": [
       "8.0     8659\n",
       "10.0    6606\n",
       "0.0     2145\n",
       "3.0      789\n",
       "5.0      431\n",
       "1.0      335\n",
       "2.0      222\n",
       "4.0      216\n",
       "6.0       53\n",
       "7.0       41\n",
       "Name: RENDA_PER_CAPITA, dtype: int64"
      ]
     },
     "execution_count": 285,
     "metadata": {},
     "output_type": "execute_result"
    }
   ],
   "source": [
    "df.loc[df['RENDA_PER_CAPITA'].isnull(), 'RENDA_PER_CAPITA'] = capita_media\n",
    "df.RENDA_PER_CAPITA.value_counts()"
   ]
  },
  {
   "cell_type": "code",
   "execution_count": 286,
   "metadata": {
    "collapsed": false
   },
   "outputs": [
    {
     "data": {
      "text/plain": [
       "dtype('int64')"
      ]
     },
     "execution_count": 286,
     "metadata": {},
     "output_type": "execute_result"
    }
   ],
   "source": [
    "## mudando a renda de float para inteiro\n",
    "df['RENDA_PER_CAPITA']= df['RENDA_PER_CAPITA'].astype('int64')\n",
    "df.RENDA_PER_CAPITA.dtype"
   ]
  },
  {
   "cell_type": "markdown",
   "metadata": {},
   "source": [
    "### 4)- Necessário saber somente do campo profissão se o cara trabalha ou não"
   ]
  },
  {
   "cell_type": "code",
   "execution_count": 287,
   "metadata": {
    "collapsed": false,
    "scrolled": true
   },
   "outputs": [
    {
     "data": {
      "text/plain": [
       "array([nan, 'Estudante', 'Técnico', 'Técnico em Telecomunicações',\n",
       "       'Técnico em Eletromecânica', 'Físico', 'Agente Administrativo',\n",
       "       'ESTUDANTE', 'Militar', 'Operador de Telemarketing', 'Eletricista',\n",
       "       'Instrumentista', 'Professor', 'FUNCIONARIO PUBLICO',\n",
       "       'Designer Gráfico', 'Tecnólogo', 'Outros', 'Empresária',\n",
       "       'ATENDENTE', 'Autonomo', 'Eletrotécnico', 'Especialista Técnico',\n",
       "       'Administrador de Redes', 'Programador',\n",
       "       'Manipulador de Fotografia', 'Comerciante', 'Técnico em Eletrônica',\n",
       "       'Analista de Suporte', 'Agrimensor(a)', 'Técnico em Informática',\n",
       "       'Funcionario Publico', 'MÚSICO', 'Autônoma',\n",
       "       'Engenheiro de Produção', 'Representante Comercial',\n",
       "       'TÉCNICO EM INFORMÁTICA', 'AUTONOMO', 'COBRADOR',\n",
       "       'Técnico em Mecânica', 'Aux. Administrativo', 'ENGENHEIRO ELÉTRICO',\n",
       "       'Técnico em Eletrotécnica', 'PROFESSOR', 'CALL CENTER',\n",
       "       'Desenhista', 'ELETRICISTA', 'Servidor(a) Público(a)',\n",
       "       'COMERCIANTE', 'Mecânico', 'Geógrafa', 'Engenheiro Elétrico',\n",
       "       'SERVIDOR(A) PÚBLICO(A)', 'AUX. ADMINISTRATIVO', 'Técnico Químico',\n",
       "       'TECNÓLOGO', 'Engenheiro Agronômo', 'Projetista Civil'], dtype=object)"
      ]
     },
     "execution_count": 287,
     "metadata": {},
     "output_type": "execute_result"
    }
   ],
   "source": [
    "df.PROFISSAO.unique()"
   ]
  },
  {
   "cell_type": "markdown",
   "metadata": {},
   "source": [
    "#### Para tratar todas os tipos de valores, manualmente fica inviavel\n",
    "#### Logo será criado uma função para distribuir os valores no luga das posições\n",
    "        Campo profissão será binarizado para:<br>\n",
    "        Desempregado = 0 <br>\n",
    "        Empregado = 1"
   ]
  },
  {
   "cell_type": "code",
   "execution_count": 288,
   "metadata": {
    "collapsed": false
   },
   "outputs": [
    {
     "data": {
      "text/plain": [
       "9342"
      ]
     },
     "execution_count": 288,
     "metadata": {},
     "output_type": "execute_result"
    }
   ],
   "source": [
    "len(df.loc[df['PROFISSAO'].isnull(), 'PROFISSAO'])"
   ]
  },
  {
   "cell_type": "markdown",
   "metadata": {},
   "source": [
    "Se pararmos para pensar no porque da coluna emprego possuir mais de 8000 registros nulos, <br>\n",
    "Podemos levar em consideração que uma pessoa deixa de responder um campo de emprego ou pq não trabalha, <br>\n",
    "ou pq não quer divulgar seu emprego. <br>\n",
    "\n",
    "#### Levando em consideração que o cenário atual é uma faculdade, onde num espaço de 8400 + ou - de alunos, 5000 são estudantes\n",
    "#### Sabendo que nesse espaço temos mais quase 50% de pessoas que não trabalham,\n",
    "#### O espaço total pode conter os nulos em sua maioria nas pessoas que não trabalham\n",
    "\n",
    "Essa idéia surgiu no fato de ser muito trabalhoso descaracterizar esta coluna e utilizar-se do mean()"
   ]
  },
  {
   "cell_type": "code",
   "execution_count": 289,
   "metadata": {
    "collapsed": false
   },
   "outputs": [
    {
     "data": {
      "text/plain": [
       "array([ 0.,  1.])"
      ]
     },
     "execution_count": 289,
     "metadata": {},
     "output_type": "execute_result"
    }
   ],
   "source": [
    "def arruma_joca_emprego(profissao):\n",
    "    if(profissao == 'Estudante' or profissao == 'ESTUDANTE'):\n",
    "        return 0\n",
    "    else:\n",
    "        return 1\n",
    "\n",
    "\n",
    "df.PROFISSAO = df.loc[df['PROFISSAO'].notnull(), 'PROFISSAO'].apply(arruma_joca_emprego)\n",
    "\n",
    "df.loc[df['PROFISSAO'].isnull(), 'PROFISSAO'] = 0\n",
    "df.PROFISSAO.unique()"
   ]
  },
  {
   "cell_type": "code",
   "execution_count": 290,
   "metadata": {
    "collapsed": false
   },
   "outputs": [
    {
     "data": {
      "text/plain": [
       "0.0    15748\n",
       "1.0     3749\n",
       "Name: PROFISSAO, dtype: int64"
      ]
     },
     "execution_count": 290,
     "metadata": {},
     "output_type": "execute_result"
    }
   ],
   "source": [
    "df.PROFISSAO.value_counts()"
   ]
  },
  {
   "cell_type": "code",
   "execution_count": 291,
   "metadata": {
    "collapsed": false
   },
   "outputs": [
    {
     "data": {
      "text/plain": [
       "dtype('int64')"
      ]
     },
     "execution_count": 291,
     "metadata": {},
     "output_type": "execute_result"
    }
   ],
   "source": [
    "df['PROFISSAO']= df['PROFISSAO'].astype('int64')\n",
    "df.PROFISSAO.dtype"
   ]
  },
  {
   "cell_type": "markdown",
   "metadata": {},
   "source": [
    "### 4)- Limpar Colunas 'ano de ingresso' e 'ano de conclusão de 2 grau'"
   ]
  },
  {
   "cell_type": "markdown",
   "metadata": {},
   "source": [
    "#### Campo Ano Ingresso"
   ]
  },
  {
   "cell_type": "code",
   "execution_count": 292,
   "metadata": {
    "collapsed": false
   },
   "outputs": [
    {
     "data": {
      "text/plain": [
       "2012    3427\n",
       "2008    3381\n",
       "2010    3308\n",
       "2011    3218\n",
       "2013    2207\n",
       "2009    1920\n",
       "2014    1339\n",
       "2015     632\n",
       "2016      65\n",
       "Name: ANO_INGRESSO, dtype: int64"
      ]
     },
     "execution_count": 292,
     "metadata": {},
     "output_type": "execute_result"
    }
   ],
   "source": [
    "df.ANO_INGRESSO.unique()\n",
    "df.ANO_INGRESSO.value_counts()"
   ]
  },
  {
   "cell_type": "code",
   "execution_count": 293,
   "metadata": {
    "collapsed": false
   },
   "outputs": [
    {
     "data": {
      "text/plain": [
       "0"
      ]
     },
     "execution_count": 293,
     "metadata": {},
     "output_type": "execute_result"
    }
   ],
   "source": [
    "## não existem nulos nesta coluna\n",
    "len(df.loc[df['ANO_INGRESSO'].isnull(), 'ANO_INGRESSO'])"
   ]
  },
  {
   "cell_type": "markdown",
   "metadata": {},
   "source": [
    "#### Campo Ano Conclusao 2 Grau"
   ]
  },
  {
   "cell_type": "markdown",
   "metadata": {},
   "source": [
    "será utilizado regreção para fazer a limpeza dos dados nulos"
   ]
  },
  {
   "cell_type": "markdown",
   "metadata": {},
   "source": [
    "#### Campo N Faltas"
   ]
  },
  {
   "cell_type": "code",
   "execution_count": 294,
   "metadata": {
    "collapsed": false
   },
   "outputs": [
    {
     "data": {
      "text/plain": [
       "array([  nan,   70.,    8.,   10.,   12.,    4.,    0.,   66.,    2.,\n",
       "         68.,   56.,   22.,   64.,   26.,   20.,    6.,   46.,   74.,\n",
       "         28.,   32.,   42.,   40.,   60.,   62.,   44.,   72.,   30.,\n",
       "         18.,   24.,   16.,    7.,   14.,   48.,   38.,    3.,   27.,\n",
       "         57.,   21.,   34.,   36.,   58.,   17.,   13.,   50.,   86.,\n",
       "         19.,   23.,   65.,   76.,   15.,    9.,   61.,    5.,   11.,\n",
       "         52.,   71.,   63.,    1.,   54.,   78.,  100.,  108.,   55.,\n",
       "         81.,  102.,   41.,   31.,   51.,   35.,   88.,   96.,   99.,\n",
       "         79.,   98.,   94.,  104.,   80.,   82.,   77.,  114.,   84.,\n",
       "        110.,  112.,   90.,   25.,   37.,   39.,   47.,   33.,   75.,\n",
       "        120.,   29.,   73.,   92.,   67.,  106.,   69.])"
      ]
     },
     "execution_count": 294,
     "metadata": {},
     "output_type": "execute_result"
    }
   ],
   "source": [
    "df.N_FALTAS.unique()\n",
    "##df.N_FALTAS.value_counts()"
   ]
  },
  {
   "cell_type": "code",
   "execution_count": 295,
   "metadata": {
    "collapsed": false
   },
   "outputs": [
    {
     "data": {
      "text/plain": [
       "2157"
      ]
     },
     "execution_count": 295,
     "metadata": {},
     "output_type": "execute_result"
    }
   ],
   "source": [
    "len(df.loc[df['N_FALTAS'].isnull(), 'N_FALTAS'])"
   ]
  },
  {
   "cell_type": "markdown",
   "metadata": {},
   "source": [
    "#### Sabendo da quantidade de nulos, é necessário acrescentar 0 aos nulos, levando em consideração que quem tem falta nula, não tem falta"
   ]
  },
  {
   "cell_type": "code",
   "execution_count": 296,
   "metadata": {
    "collapsed": false
   },
   "outputs": [
    {
     "data": {
      "text/plain": [
       "array([   0.,   70.,    8.,   10.,   12.,    4.,   66.,    2.,   68.,\n",
       "         56.,   22.,   64.,   26.,   20.,    6.,   46.,   74.,   28.,\n",
       "         32.,   42.,   40.,   60.,   62.,   44.,   72.,   30.,   18.,\n",
       "         24.,   16.,    7.,   14.,   48.,   38.,    3.,   27.,   57.,\n",
       "         21.,   34.,   36.,   58.,   17.,   13.,   50.,   86.,   19.,\n",
       "         23.,   65.,   76.,   15.,    9.,   61.,    5.,   11.,   52.,\n",
       "         71.,   63.,    1.,   54.,   78.,  100.,  108.,   55.,   81.,\n",
       "        102.,   41.,   31.,   51.,   35.,   88.,   96.,   99.,   79.,\n",
       "         98.,   94.,  104.,   80.,   82.,   77.,  114.,   84.,  110.,\n",
       "        112.,   90.,   25.,   37.,   39.,   47.,   33.,   75.,  120.,\n",
       "         29.,   73.,   92.,   67.,  106.,   69.])"
      ]
     },
     "execution_count": 296,
     "metadata": {},
     "output_type": "execute_result"
    }
   ],
   "source": [
    "df.loc[df['N_FALTAS'].isnull(), 'N_FALTAS'] = 0\n",
    "\n",
    "df.N_FALTAS.unique()"
   ]
  },
  {
   "cell_type": "code",
   "execution_count": 297,
   "metadata": {
    "collapsed": false
   },
   "outputs": [
    {
     "data": {
      "text/plain": [
       "dtype('int64')"
      ]
     },
     "execution_count": 297,
     "metadata": {},
     "output_type": "execute_result"
    }
   ],
   "source": [
    "df['N_FALTAS']= df['N_FALTAS'].astype('int64')\n",
    "df.N_FALTAS.dtype"
   ]
  },
  {
   "cell_type": "markdown",
   "metadata": {},
   "source": [
    "#### Campo Carga Horaria"
   ]
  },
  {
   "cell_type": "code",
   "execution_count": 298,
   "metadata": {
    "collapsed": false,
    "scrolled": true
   },
   "outputs": [
    {
     "data": {
      "text/plain": [
       "array([54, 81, 27], dtype=int64)"
      ]
     },
     "execution_count": 298,
     "metadata": {},
     "output_type": "execute_result"
    }
   ],
   "source": [
    "df.CARGA_HOR.unique()"
   ]
  },
  {
   "cell_type": "markdown",
   "metadata": {},
   "source": [
    "### 7) Criação do campo Aprovado || aprovado = 1 e reprovado = 0"
   ]
  },
  {
   "cell_type": "code",
   "execution_count": 299,
   "metadata": {
    "collapsed": false
   },
   "outputs": [
    {
     "data": {
      "text/plain": [
       "array([54, 81, 27], dtype=int64)"
      ]
     },
     "execution_count": 299,
     "metadata": {},
     "output_type": "execute_result"
    }
   ],
   "source": [
    "df.CARGA_HOR.unique()"
   ]
  },
  {
   "cell_type": "code",
   "execution_count": 300,
   "metadata": {
    "collapsed": false
   },
   "outputs": [
    {
     "data": {
      "text/plain": [
       "array([  0,  70,   8,  10,  12,   4,  66,   2,  68,  56,  22,  64,  26,\n",
       "        20,   6,  46,  74,  28,  32,  42,  40,  60,  62,  44,  72,  30,\n",
       "        18,  24,  16,   7,  14,  48,  38,   3,  27,  57,  21,  34,  36,\n",
       "        58,  17,  13,  50,  86,  19,  23,  65,  76,  15,   9,  61,   5,\n",
       "        11,  52,  71,  63,   1,  54,  78, 100, 108,  55,  81, 102,  41,\n",
       "        31,  51,  35,  88,  96,  99,  79,  98,  94, 104,  80,  82,  77,\n",
       "       114,  84, 110, 112,  90,  25,  37,  39,  47,  33,  75, 120,  29,\n",
       "        73,  92,  67, 106,  69], dtype=int64)"
      ]
     },
     "execution_count": 300,
     "metadata": {},
     "output_type": "execute_result"
    }
   ],
   "source": [
    "df.N_FALTAS.unique()"
   ]
  },
  {
   "cell_type": "code",
   "execution_count": 301,
   "metadata": {
    "collapsed": false
   },
   "outputs": [
    {
     "data": {
      "text/plain": [
       "17.5"
      ]
     },
     "execution_count": 301,
     "metadata": {},
     "output_type": "execute_result"
    }
   ],
   "source": [
    "## Quantidade de possíveis faltas em 54 horas\n",
    "## 75% de presença\n",
    "## 4 aulas no dia\n",
    "\n",
    "a = round(54 - 75/4)\n",
    "\n",
    "## 2 faltas em cada aula\n",
    "a = a/2\n",
    "a"
   ]
  },
  {
   "cell_type": "code",
   "execution_count": 302,
   "metadata": {
    "collapsed": false
   },
   "outputs": [
    {
     "data": {
      "text/plain": [
       "31.0"
      ]
     },
     "execution_count": 302,
     "metadata": {},
     "output_type": "execute_result"
    }
   ],
   "source": [
    "b = round(81 - 75/4)\n",
    "b = b/2\n",
    "b"
   ]
  },
  {
   "cell_type": "code",
   "execution_count": 303,
   "metadata": {
    "collapsed": false
   },
   "outputs": [
    {
     "data": {
      "text/plain": [
       "8"
      ]
     },
     "execution_count": 303,
     "metadata": {},
     "output_type": "execute_result"
    }
   ],
   "source": [
    "c = round(27 - 75/4)\n",
    "c/2\n",
    "c"
   ]
  },
  {
   "cell_type": "markdown",
   "metadata": {},
   "source": [
    "Carga Horaria:    \n",
    "    54 = 16 faltas <br>\n",
    "    81 = 30 faltas <br>\n",
    "    27 = 4 faltas"
   ]
  },
  {
   "cell_type": "code",
   "execution_count": 304,
   "metadata": {
    "collapsed": false
   },
   "outputs": [
    {
     "data": {
      "text/html": [
       "<div>\n",
       "<table border=\"1\" class=\"dataframe\">\n",
       "  <thead>\n",
       "    <tr style=\"text-align: right;\">\n",
       "      <th></th>\n",
       "      <th>N_FALTAS</th>\n",
       "      <th>CARGA_HOR</th>\n",
       "      <th>NOTAS</th>\n",
       "    </tr>\n",
       "  </thead>\n",
       "  <tbody>\n",
       "    <tr>\n",
       "      <th>0</th>\n",
       "      <td>0</td>\n",
       "      <td>54</td>\n",
       "      <td>6.7</td>\n",
       "    </tr>\n",
       "    <tr>\n",
       "      <th>1</th>\n",
       "      <td>0</td>\n",
       "      <td>54</td>\n",
       "      <td>10.0</td>\n",
       "    </tr>\n",
       "    <tr>\n",
       "      <th>2</th>\n",
       "      <td>0</td>\n",
       "      <td>54</td>\n",
       "      <td>10.0</td>\n",
       "    </tr>\n",
       "    <tr>\n",
       "      <th>8</th>\n",
       "      <td>8</td>\n",
       "      <td>54</td>\n",
       "      <td>8.0</td>\n",
       "    </tr>\n",
       "    <tr>\n",
       "      <th>12</th>\n",
       "      <td>8</td>\n",
       "      <td>54</td>\n",
       "      <td>6.6</td>\n",
       "    </tr>\n",
       "    <tr>\n",
       "      <th>19</th>\n",
       "      <td>4</td>\n",
       "      <td>54</td>\n",
       "      <td>8.8</td>\n",
       "    </tr>\n",
       "    <tr>\n",
       "      <th>20</th>\n",
       "      <td>10</td>\n",
       "      <td>54</td>\n",
       "      <td>6.6</td>\n",
       "    </tr>\n",
       "    <tr>\n",
       "      <th>24</th>\n",
       "      <td>0</td>\n",
       "      <td>54</td>\n",
       "      <td>6.0</td>\n",
       "    </tr>\n",
       "    <tr>\n",
       "      <th>26</th>\n",
       "      <td>0</td>\n",
       "      <td>54</td>\n",
       "      <td>7.2</td>\n",
       "    </tr>\n",
       "    <tr>\n",
       "      <th>27</th>\n",
       "      <td>0</td>\n",
       "      <td>54</td>\n",
       "      <td>6.0</td>\n",
       "    </tr>\n",
       "    <tr>\n",
       "      <th>28</th>\n",
       "      <td>0</td>\n",
       "      <td>54</td>\n",
       "      <td>6.0</td>\n",
       "    </tr>\n",
       "    <tr>\n",
       "      <th>29</th>\n",
       "      <td>0</td>\n",
       "      <td>54</td>\n",
       "      <td>6.0</td>\n",
       "    </tr>\n",
       "    <tr>\n",
       "      <th>30</th>\n",
       "      <td>0</td>\n",
       "      <td>54</td>\n",
       "      <td>7.3</td>\n",
       "    </tr>\n",
       "    <tr>\n",
       "      <th>31</th>\n",
       "      <td>0</td>\n",
       "      <td>54</td>\n",
       "      <td>6.0</td>\n",
       "    </tr>\n",
       "    <tr>\n",
       "      <th>32</th>\n",
       "      <td>0</td>\n",
       "      <td>54</td>\n",
       "      <td>6.7</td>\n",
       "    </tr>\n",
       "    <tr>\n",
       "      <th>33</th>\n",
       "      <td>0</td>\n",
       "      <td>54</td>\n",
       "      <td>6.7</td>\n",
       "    </tr>\n",
       "    <tr>\n",
       "      <th>34</th>\n",
       "      <td>0</td>\n",
       "      <td>54</td>\n",
       "      <td>7.0</td>\n",
       "    </tr>\n",
       "    <tr>\n",
       "      <th>35</th>\n",
       "      <td>0</td>\n",
       "      <td>54</td>\n",
       "      <td>6.0</td>\n",
       "    </tr>\n",
       "    <tr>\n",
       "      <th>36</th>\n",
       "      <td>0</td>\n",
       "      <td>54</td>\n",
       "      <td>7.5</td>\n",
       "    </tr>\n",
       "    <tr>\n",
       "      <th>37</th>\n",
       "      <td>0</td>\n",
       "      <td>54</td>\n",
       "      <td>7.5</td>\n",
       "    </tr>\n",
       "    <tr>\n",
       "      <th>38</th>\n",
       "      <td>0</td>\n",
       "      <td>54</td>\n",
       "      <td>6.0</td>\n",
       "    </tr>\n",
       "    <tr>\n",
       "      <th>40</th>\n",
       "      <td>0</td>\n",
       "      <td>54</td>\n",
       "      <td>6.7</td>\n",
       "    </tr>\n",
       "    <tr>\n",
       "      <th>41</th>\n",
       "      <td>0</td>\n",
       "      <td>54</td>\n",
       "      <td>8.0</td>\n",
       "    </tr>\n",
       "    <tr>\n",
       "      <th>42</th>\n",
       "      <td>0</td>\n",
       "      <td>54</td>\n",
       "      <td>6.7</td>\n",
       "    </tr>\n",
       "    <tr>\n",
       "      <th>44</th>\n",
       "      <td>0</td>\n",
       "      <td>54</td>\n",
       "      <td>6.7</td>\n",
       "    </tr>\n",
       "    <tr>\n",
       "      <th>45</th>\n",
       "      <td>0</td>\n",
       "      <td>54</td>\n",
       "      <td>7.2</td>\n",
       "    </tr>\n",
       "    <tr>\n",
       "      <th>46</th>\n",
       "      <td>0</td>\n",
       "      <td>54</td>\n",
       "      <td>6.0</td>\n",
       "    </tr>\n",
       "    <tr>\n",
       "      <th>47</th>\n",
       "      <td>0</td>\n",
       "      <td>54</td>\n",
       "      <td>10.0</td>\n",
       "    </tr>\n",
       "    <tr>\n",
       "      <th>48</th>\n",
       "      <td>0</td>\n",
       "      <td>54</td>\n",
       "      <td>7.6</td>\n",
       "    </tr>\n",
       "    <tr>\n",
       "      <th>49</th>\n",
       "      <td>0</td>\n",
       "      <td>54</td>\n",
       "      <td>6.0</td>\n",
       "    </tr>\n",
       "    <tr>\n",
       "      <th>...</th>\n",
       "      <td>...</td>\n",
       "      <td>...</td>\n",
       "      <td>...</td>\n",
       "    </tr>\n",
       "    <tr>\n",
       "      <th>20712</th>\n",
       "      <td>4</td>\n",
       "      <td>54</td>\n",
       "      <td>10.0</td>\n",
       "    </tr>\n",
       "    <tr>\n",
       "      <th>20714</th>\n",
       "      <td>0</td>\n",
       "      <td>54</td>\n",
       "      <td>10.0</td>\n",
       "    </tr>\n",
       "    <tr>\n",
       "      <th>20715</th>\n",
       "      <td>0</td>\n",
       "      <td>54</td>\n",
       "      <td>10.0</td>\n",
       "    </tr>\n",
       "    <tr>\n",
       "      <th>20716</th>\n",
       "      <td>0</td>\n",
       "      <td>54</td>\n",
       "      <td>10.0</td>\n",
       "    </tr>\n",
       "    <tr>\n",
       "      <th>20717</th>\n",
       "      <td>0</td>\n",
       "      <td>54</td>\n",
       "      <td>10.0</td>\n",
       "    </tr>\n",
       "    <tr>\n",
       "      <th>20718</th>\n",
       "      <td>0</td>\n",
       "      <td>54</td>\n",
       "      <td>10.0</td>\n",
       "    </tr>\n",
       "    <tr>\n",
       "      <th>20719</th>\n",
       "      <td>0</td>\n",
       "      <td>54</td>\n",
       "      <td>10.0</td>\n",
       "    </tr>\n",
       "    <tr>\n",
       "      <th>20720</th>\n",
       "      <td>16</td>\n",
       "      <td>54</td>\n",
       "      <td>10.0</td>\n",
       "    </tr>\n",
       "    <tr>\n",
       "      <th>20721</th>\n",
       "      <td>4</td>\n",
       "      <td>54</td>\n",
       "      <td>10.0</td>\n",
       "    </tr>\n",
       "    <tr>\n",
       "      <th>20722</th>\n",
       "      <td>0</td>\n",
       "      <td>54</td>\n",
       "      <td>10.0</td>\n",
       "    </tr>\n",
       "    <tr>\n",
       "      <th>20723</th>\n",
       "      <td>0</td>\n",
       "      <td>54</td>\n",
       "      <td>10.0</td>\n",
       "    </tr>\n",
       "    <tr>\n",
       "      <th>20724</th>\n",
       "      <td>0</td>\n",
       "      <td>54</td>\n",
       "      <td>10.0</td>\n",
       "    </tr>\n",
       "    <tr>\n",
       "      <th>20725</th>\n",
       "      <td>12</td>\n",
       "      <td>54</td>\n",
       "      <td>10.0</td>\n",
       "    </tr>\n",
       "    <tr>\n",
       "      <th>20726</th>\n",
       "      <td>8</td>\n",
       "      <td>54</td>\n",
       "      <td>10.0</td>\n",
       "    </tr>\n",
       "    <tr>\n",
       "      <th>20728</th>\n",
       "      <td>8</td>\n",
       "      <td>54</td>\n",
       "      <td>10.0</td>\n",
       "    </tr>\n",
       "    <tr>\n",
       "      <th>20729</th>\n",
       "      <td>0</td>\n",
       "      <td>54</td>\n",
       "      <td>10.0</td>\n",
       "    </tr>\n",
       "    <tr>\n",
       "      <th>20730</th>\n",
       "      <td>0</td>\n",
       "      <td>54</td>\n",
       "      <td>10.0</td>\n",
       "    </tr>\n",
       "    <tr>\n",
       "      <th>20731</th>\n",
       "      <td>0</td>\n",
       "      <td>54</td>\n",
       "      <td>10.0</td>\n",
       "    </tr>\n",
       "    <tr>\n",
       "      <th>20733</th>\n",
       "      <td>6</td>\n",
       "      <td>54</td>\n",
       "      <td>9.4</td>\n",
       "    </tr>\n",
       "    <tr>\n",
       "      <th>20734</th>\n",
       "      <td>0</td>\n",
       "      <td>54</td>\n",
       "      <td>10.0</td>\n",
       "    </tr>\n",
       "    <tr>\n",
       "      <th>20735</th>\n",
       "      <td>0</td>\n",
       "      <td>54</td>\n",
       "      <td>7.8</td>\n",
       "    </tr>\n",
       "    <tr>\n",
       "      <th>20736</th>\n",
       "      <td>8</td>\n",
       "      <td>54</td>\n",
       "      <td>9.0</td>\n",
       "    </tr>\n",
       "    <tr>\n",
       "      <th>20738</th>\n",
       "      <td>6</td>\n",
       "      <td>54</td>\n",
       "      <td>7.8</td>\n",
       "    </tr>\n",
       "    <tr>\n",
       "      <th>20739</th>\n",
       "      <td>6</td>\n",
       "      <td>54</td>\n",
       "      <td>7.8</td>\n",
       "    </tr>\n",
       "    <tr>\n",
       "      <th>20740</th>\n",
       "      <td>0</td>\n",
       "      <td>54</td>\n",
       "      <td>7.2</td>\n",
       "    </tr>\n",
       "    <tr>\n",
       "      <th>20741</th>\n",
       "      <td>2</td>\n",
       "      <td>54</td>\n",
       "      <td>9.4</td>\n",
       "    </tr>\n",
       "    <tr>\n",
       "      <th>20742</th>\n",
       "      <td>0</td>\n",
       "      <td>54</td>\n",
       "      <td>10.0</td>\n",
       "    </tr>\n",
       "    <tr>\n",
       "      <th>20743</th>\n",
       "      <td>0</td>\n",
       "      <td>54</td>\n",
       "      <td>6.8</td>\n",
       "    </tr>\n",
       "    <tr>\n",
       "      <th>20744</th>\n",
       "      <td>0</td>\n",
       "      <td>54</td>\n",
       "      <td>6.7</td>\n",
       "    </tr>\n",
       "    <tr>\n",
       "      <th>20745</th>\n",
       "      <td>0</td>\n",
       "      <td>54</td>\n",
       "      <td>6.7</td>\n",
       "    </tr>\n",
       "  </tbody>\n",
       "</table>\n",
       "<p>9367 rows × 3 columns</p>\n",
       "</div>"
      ],
      "text/plain": [
       "       N_FALTAS  CARGA_HOR  NOTAS\n",
       "0             0         54    6.7\n",
       "1             0         54   10.0\n",
       "2             0         54   10.0\n",
       "8             8         54    8.0\n",
       "12            8         54    6.6\n",
       "19            4         54    8.8\n",
       "20           10         54    6.6\n",
       "24            0         54    6.0\n",
       "26            0         54    7.2\n",
       "27            0         54    6.0\n",
       "28            0         54    6.0\n",
       "29            0         54    6.0\n",
       "30            0         54    7.3\n",
       "31            0         54    6.0\n",
       "32            0         54    6.7\n",
       "33            0         54    6.7\n",
       "34            0         54    7.0\n",
       "35            0         54    6.0\n",
       "36            0         54    7.5\n",
       "37            0         54    7.5\n",
       "38            0         54    6.0\n",
       "40            0         54    6.7\n",
       "41            0         54    8.0\n",
       "42            0         54    6.7\n",
       "44            0         54    6.7\n",
       "45            0         54    7.2\n",
       "46            0         54    6.0\n",
       "47            0         54   10.0\n",
       "48            0         54    7.6\n",
       "49            0         54    6.0\n",
       "...         ...        ...    ...\n",
       "20712         4         54   10.0\n",
       "20714         0         54   10.0\n",
       "20715         0         54   10.0\n",
       "20716         0         54   10.0\n",
       "20717         0         54   10.0\n",
       "20718         0         54   10.0\n",
       "20719         0         54   10.0\n",
       "20720        16         54   10.0\n",
       "20721         4         54   10.0\n",
       "20722         0         54   10.0\n",
       "20723         0         54   10.0\n",
       "20724         0         54   10.0\n",
       "20725        12         54   10.0\n",
       "20726         8         54   10.0\n",
       "20728         8         54   10.0\n",
       "20729         0         54   10.0\n",
       "20730         0         54   10.0\n",
       "20731         0         54   10.0\n",
       "20733         6         54    9.4\n",
       "20734         0         54   10.0\n",
       "20735         0         54    7.8\n",
       "20736         8         54    9.0\n",
       "20738         6         54    7.8\n",
       "20739         6         54    7.8\n",
       "20740         0         54    7.2\n",
       "20741         2         54    9.4\n",
       "20742         0         54   10.0\n",
       "20743         0         54    6.8\n",
       "20744         0         54    6.7\n",
       "20745         0         54    6.7\n",
       "\n",
       "[9367 rows x 3 columns]"
      ]
     },
     "execution_count": 304,
     "metadata": {},
     "output_type": "execute_result"
    }
   ],
   "source": [
    "df.loc[(df['N_FALTAS'] <= 16) & (df['CARGA_HOR'] == 54) & (df['NOTAS'] >= 6), ['N_FALTAS', 'CARGA_HOR', 'NOTAS']]"
   ]
  },
  {
   "cell_type": "code",
   "execution_count": 305,
   "metadata": {
    "collapsed": false
   },
   "outputs": [
    {
     "data": {
      "text/html": [
       "<div>\n",
       "<table border=\"1\" class=\"dataframe\">\n",
       "  <thead>\n",
       "    <tr style=\"text-align: right;\">\n",
       "      <th></th>\n",
       "      <th>N_FALTAS</th>\n",
       "      <th>CARGA_HOR</th>\n",
       "      <th>NOTAS</th>\n",
       "    </tr>\n",
       "  </thead>\n",
       "  <tbody>\n",
       "    <tr>\n",
       "      <th>2595</th>\n",
       "      <td>0</td>\n",
       "      <td>81</td>\n",
       "      <td>7.4</td>\n",
       "    </tr>\n",
       "    <tr>\n",
       "      <th>2596</th>\n",
       "      <td>10</td>\n",
       "      <td>81</td>\n",
       "      <td>7.0</td>\n",
       "    </tr>\n",
       "    <tr>\n",
       "      <th>2597</th>\n",
       "      <td>0</td>\n",
       "      <td>81</td>\n",
       "      <td>6.0</td>\n",
       "    </tr>\n",
       "    <tr>\n",
       "      <th>2599</th>\n",
       "      <td>0</td>\n",
       "      <td>81</td>\n",
       "      <td>6.6</td>\n",
       "    </tr>\n",
       "    <tr>\n",
       "      <th>2600</th>\n",
       "      <td>0</td>\n",
       "      <td>81</td>\n",
       "      <td>6.8</td>\n",
       "    </tr>\n",
       "    <tr>\n",
       "      <th>2601</th>\n",
       "      <td>0</td>\n",
       "      <td>81</td>\n",
       "      <td>7.7</td>\n",
       "    </tr>\n",
       "    <tr>\n",
       "      <th>2602</th>\n",
       "      <td>0</td>\n",
       "      <td>81</td>\n",
       "      <td>6.3</td>\n",
       "    </tr>\n",
       "    <tr>\n",
       "      <th>2609</th>\n",
       "      <td>0</td>\n",
       "      <td>81</td>\n",
       "      <td>8.6</td>\n",
       "    </tr>\n",
       "    <tr>\n",
       "      <th>2617</th>\n",
       "      <td>2</td>\n",
       "      <td>81</td>\n",
       "      <td>6.4</td>\n",
       "    </tr>\n",
       "    <tr>\n",
       "      <th>2624</th>\n",
       "      <td>4</td>\n",
       "      <td>81</td>\n",
       "      <td>6.5</td>\n",
       "    </tr>\n",
       "    <tr>\n",
       "      <th>2625</th>\n",
       "      <td>0</td>\n",
       "      <td>81</td>\n",
       "      <td>10.0</td>\n",
       "    </tr>\n",
       "    <tr>\n",
       "      <th>2626</th>\n",
       "      <td>0</td>\n",
       "      <td>81</td>\n",
       "      <td>6.0</td>\n",
       "    </tr>\n",
       "    <tr>\n",
       "      <th>2633</th>\n",
       "      <td>0</td>\n",
       "      <td>81</td>\n",
       "      <td>6.2</td>\n",
       "    </tr>\n",
       "    <tr>\n",
       "      <th>2635</th>\n",
       "      <td>0</td>\n",
       "      <td>81</td>\n",
       "      <td>7.0</td>\n",
       "    </tr>\n",
       "    <tr>\n",
       "      <th>2637</th>\n",
       "      <td>0</td>\n",
       "      <td>81</td>\n",
       "      <td>6.2</td>\n",
       "    </tr>\n",
       "    <tr>\n",
       "      <th>2640</th>\n",
       "      <td>0</td>\n",
       "      <td>81</td>\n",
       "      <td>6.4</td>\n",
       "    </tr>\n",
       "    <tr>\n",
       "      <th>2642</th>\n",
       "      <td>4</td>\n",
       "      <td>81</td>\n",
       "      <td>6.8</td>\n",
       "    </tr>\n",
       "    <tr>\n",
       "      <th>2644</th>\n",
       "      <td>0</td>\n",
       "      <td>81</td>\n",
       "      <td>8.7</td>\n",
       "    </tr>\n",
       "    <tr>\n",
       "      <th>2646</th>\n",
       "      <td>0</td>\n",
       "      <td>81</td>\n",
       "      <td>7.3</td>\n",
       "    </tr>\n",
       "    <tr>\n",
       "      <th>2651</th>\n",
       "      <td>0</td>\n",
       "      <td>81</td>\n",
       "      <td>6.0</td>\n",
       "    </tr>\n",
       "    <tr>\n",
       "      <th>2652</th>\n",
       "      <td>20</td>\n",
       "      <td>81</td>\n",
       "      <td>6.3</td>\n",
       "    </tr>\n",
       "    <tr>\n",
       "      <th>2653</th>\n",
       "      <td>20</td>\n",
       "      <td>81</td>\n",
       "      <td>6.3</td>\n",
       "    </tr>\n",
       "    <tr>\n",
       "      <th>2654</th>\n",
       "      <td>0</td>\n",
       "      <td>81</td>\n",
       "      <td>6.7</td>\n",
       "    </tr>\n",
       "    <tr>\n",
       "      <th>2656</th>\n",
       "      <td>0</td>\n",
       "      <td>81</td>\n",
       "      <td>6.6</td>\n",
       "    </tr>\n",
       "    <tr>\n",
       "      <th>2658</th>\n",
       "      <td>0</td>\n",
       "      <td>81</td>\n",
       "      <td>7.8</td>\n",
       "    </tr>\n",
       "    <tr>\n",
       "      <th>2659</th>\n",
       "      <td>0</td>\n",
       "      <td>81</td>\n",
       "      <td>7.8</td>\n",
       "    </tr>\n",
       "    <tr>\n",
       "      <th>2660</th>\n",
       "      <td>2</td>\n",
       "      <td>81</td>\n",
       "      <td>9.8</td>\n",
       "    </tr>\n",
       "    <tr>\n",
       "      <th>2661</th>\n",
       "      <td>0</td>\n",
       "      <td>81</td>\n",
       "      <td>7.8</td>\n",
       "    </tr>\n",
       "    <tr>\n",
       "      <th>2663</th>\n",
       "      <td>0</td>\n",
       "      <td>81</td>\n",
       "      <td>7.5</td>\n",
       "    </tr>\n",
       "    <tr>\n",
       "      <th>2668</th>\n",
       "      <td>6</td>\n",
       "      <td>81</td>\n",
       "      <td>9.0</td>\n",
       "    </tr>\n",
       "    <tr>\n",
       "      <th>...</th>\n",
       "      <td>...</td>\n",
       "      <td>...</td>\n",
       "      <td>...</td>\n",
       "    </tr>\n",
       "    <tr>\n",
       "      <th>15071</th>\n",
       "      <td>0</td>\n",
       "      <td>81</td>\n",
       "      <td>7.8</td>\n",
       "    </tr>\n",
       "    <tr>\n",
       "      <th>15072</th>\n",
       "      <td>4</td>\n",
       "      <td>81</td>\n",
       "      <td>7.0</td>\n",
       "    </tr>\n",
       "    <tr>\n",
       "      <th>15073</th>\n",
       "      <td>0</td>\n",
       "      <td>81</td>\n",
       "      <td>8.5</td>\n",
       "    </tr>\n",
       "    <tr>\n",
       "      <th>15074</th>\n",
       "      <td>4</td>\n",
       "      <td>81</td>\n",
       "      <td>6.4</td>\n",
       "    </tr>\n",
       "    <tr>\n",
       "      <th>15075</th>\n",
       "      <td>2</td>\n",
       "      <td>81</td>\n",
       "      <td>7.7</td>\n",
       "    </tr>\n",
       "    <tr>\n",
       "      <th>15076</th>\n",
       "      <td>2</td>\n",
       "      <td>81</td>\n",
       "      <td>7.7</td>\n",
       "    </tr>\n",
       "    <tr>\n",
       "      <th>15079</th>\n",
       "      <td>8</td>\n",
       "      <td>81</td>\n",
       "      <td>6.5</td>\n",
       "    </tr>\n",
       "    <tr>\n",
       "      <th>15080</th>\n",
       "      <td>10</td>\n",
       "      <td>81</td>\n",
       "      <td>9.0</td>\n",
       "    </tr>\n",
       "    <tr>\n",
       "      <th>15081</th>\n",
       "      <td>3</td>\n",
       "      <td>81</td>\n",
       "      <td>6.6</td>\n",
       "    </tr>\n",
       "    <tr>\n",
       "      <th>15082</th>\n",
       "      <td>3</td>\n",
       "      <td>81</td>\n",
       "      <td>6.6</td>\n",
       "    </tr>\n",
       "    <tr>\n",
       "      <th>15083</th>\n",
       "      <td>0</td>\n",
       "      <td>81</td>\n",
       "      <td>7.0</td>\n",
       "    </tr>\n",
       "    <tr>\n",
       "      <th>15084</th>\n",
       "      <td>0</td>\n",
       "      <td>81</td>\n",
       "      <td>6.6</td>\n",
       "    </tr>\n",
       "    <tr>\n",
       "      <th>15086</th>\n",
       "      <td>0</td>\n",
       "      <td>81</td>\n",
       "      <td>9.3</td>\n",
       "    </tr>\n",
       "    <tr>\n",
       "      <th>15087</th>\n",
       "      <td>20</td>\n",
       "      <td>81</td>\n",
       "      <td>8.9</td>\n",
       "    </tr>\n",
       "    <tr>\n",
       "      <th>15088</th>\n",
       "      <td>0</td>\n",
       "      <td>81</td>\n",
       "      <td>6.5</td>\n",
       "    </tr>\n",
       "    <tr>\n",
       "      <th>15090</th>\n",
       "      <td>0</td>\n",
       "      <td>81</td>\n",
       "      <td>6.7</td>\n",
       "    </tr>\n",
       "    <tr>\n",
       "      <th>15093</th>\n",
       "      <td>0</td>\n",
       "      <td>81</td>\n",
       "      <td>7.9</td>\n",
       "    </tr>\n",
       "    <tr>\n",
       "      <th>15094</th>\n",
       "      <td>6</td>\n",
       "      <td>81</td>\n",
       "      <td>6.3</td>\n",
       "    </tr>\n",
       "    <tr>\n",
       "      <th>15099</th>\n",
       "      <td>0</td>\n",
       "      <td>81</td>\n",
       "      <td>6.5</td>\n",
       "    </tr>\n",
       "    <tr>\n",
       "      <th>15100</th>\n",
       "      <td>4</td>\n",
       "      <td>81</td>\n",
       "      <td>6.5</td>\n",
       "    </tr>\n",
       "    <tr>\n",
       "      <th>15101</th>\n",
       "      <td>0</td>\n",
       "      <td>81</td>\n",
       "      <td>7.5</td>\n",
       "    </tr>\n",
       "    <tr>\n",
       "      <th>15102</th>\n",
       "      <td>12</td>\n",
       "      <td>81</td>\n",
       "      <td>8.8</td>\n",
       "    </tr>\n",
       "    <tr>\n",
       "      <th>15105</th>\n",
       "      <td>10</td>\n",
       "      <td>81</td>\n",
       "      <td>6.9</td>\n",
       "    </tr>\n",
       "    <tr>\n",
       "      <th>15106</th>\n",
       "      <td>10</td>\n",
       "      <td>81</td>\n",
       "      <td>6.9</td>\n",
       "    </tr>\n",
       "    <tr>\n",
       "      <th>15107</th>\n",
       "      <td>0</td>\n",
       "      <td>81</td>\n",
       "      <td>6.9</td>\n",
       "    </tr>\n",
       "    <tr>\n",
       "      <th>15108</th>\n",
       "      <td>0</td>\n",
       "      <td>81</td>\n",
       "      <td>8.0</td>\n",
       "    </tr>\n",
       "    <tr>\n",
       "      <th>15109</th>\n",
       "      <td>0</td>\n",
       "      <td>81</td>\n",
       "      <td>8.0</td>\n",
       "    </tr>\n",
       "    <tr>\n",
       "      <th>15110</th>\n",
       "      <td>6</td>\n",
       "      <td>81</td>\n",
       "      <td>7.3</td>\n",
       "    </tr>\n",
       "    <tr>\n",
       "      <th>15111</th>\n",
       "      <td>0</td>\n",
       "      <td>81</td>\n",
       "      <td>8.4</td>\n",
       "    </tr>\n",
       "    <tr>\n",
       "      <th>15112</th>\n",
       "      <td>4</td>\n",
       "      <td>81</td>\n",
       "      <td>6.4</td>\n",
       "    </tr>\n",
       "  </tbody>\n",
       "</table>\n",
       "<p>1501 rows × 3 columns</p>\n",
       "</div>"
      ],
      "text/plain": [
       "       N_FALTAS  CARGA_HOR  NOTAS\n",
       "2595          0         81    7.4\n",
       "2596         10         81    7.0\n",
       "2597          0         81    6.0\n",
       "2599          0         81    6.6\n",
       "2600          0         81    6.8\n",
       "2601          0         81    7.7\n",
       "2602          0         81    6.3\n",
       "2609          0         81    8.6\n",
       "2617          2         81    6.4\n",
       "2624          4         81    6.5\n",
       "2625          0         81   10.0\n",
       "2626          0         81    6.0\n",
       "2633          0         81    6.2\n",
       "2635          0         81    7.0\n",
       "2637          0         81    6.2\n",
       "2640          0         81    6.4\n",
       "2642          4         81    6.8\n",
       "2644          0         81    8.7\n",
       "2646          0         81    7.3\n",
       "2651          0         81    6.0\n",
       "2652         20         81    6.3\n",
       "2653         20         81    6.3\n",
       "2654          0         81    6.7\n",
       "2656          0         81    6.6\n",
       "2658          0         81    7.8\n",
       "2659          0         81    7.8\n",
       "2660          2         81    9.8\n",
       "2661          0         81    7.8\n",
       "2663          0         81    7.5\n",
       "2668          6         81    9.0\n",
       "...         ...        ...    ...\n",
       "15071         0         81    7.8\n",
       "15072         4         81    7.0\n",
       "15073         0         81    8.5\n",
       "15074         4         81    6.4\n",
       "15075         2         81    7.7\n",
       "15076         2         81    7.7\n",
       "15079         8         81    6.5\n",
       "15080        10         81    9.0\n",
       "15081         3         81    6.6\n",
       "15082         3         81    6.6\n",
       "15083         0         81    7.0\n",
       "15084         0         81    6.6\n",
       "15086         0         81    9.3\n",
       "15087        20         81    8.9\n",
       "15088         0         81    6.5\n",
       "15090         0         81    6.7\n",
       "15093         0         81    7.9\n",
       "15094         6         81    6.3\n",
       "15099         0         81    6.5\n",
       "15100         4         81    6.5\n",
       "15101         0         81    7.5\n",
       "15102        12         81    8.8\n",
       "15105        10         81    6.9\n",
       "15106        10         81    6.9\n",
       "15107         0         81    6.9\n",
       "15108         0         81    8.0\n",
       "15109         0         81    8.0\n",
       "15110         6         81    7.3\n",
       "15111         0         81    8.4\n",
       "15112         4         81    6.4\n",
       "\n",
       "[1501 rows x 3 columns]"
      ]
     },
     "execution_count": 305,
     "metadata": {},
     "output_type": "execute_result"
    }
   ],
   "source": [
    "df.loc[(df['N_FALTAS'] <= 30) & (df['CARGA_HOR'] == 81) & (df['NOTAS'] >= 6), ['N_FALTAS', 'CARGA_HOR', 'NOTAS']]"
   ]
  },
  {
   "cell_type": "code",
   "execution_count": 306,
   "metadata": {
    "collapsed": false
   },
   "outputs": [
    {
     "data": {
      "text/html": [
       "<div>\n",
       "<table border=\"1\" class=\"dataframe\">\n",
       "  <thead>\n",
       "    <tr style=\"text-align: right;\">\n",
       "      <th></th>\n",
       "      <th>N_FALTAS</th>\n",
       "      <th>CARGA_HOR</th>\n",
       "      <th>NOTAS</th>\n",
       "    </tr>\n",
       "  </thead>\n",
       "  <tbody>\n",
       "    <tr>\n",
       "      <th>5828</th>\n",
       "      <td>0</td>\n",
       "      <td>27</td>\n",
       "      <td>7.4</td>\n",
       "    </tr>\n",
       "    <tr>\n",
       "      <th>5829</th>\n",
       "      <td>0</td>\n",
       "      <td>27</td>\n",
       "      <td>9.0</td>\n",
       "    </tr>\n",
       "    <tr>\n",
       "      <th>5831</th>\n",
       "      <td>0</td>\n",
       "      <td>27</td>\n",
       "      <td>9.0</td>\n",
       "    </tr>\n",
       "    <tr>\n",
       "      <th>5832</th>\n",
       "      <td>0</td>\n",
       "      <td>27</td>\n",
       "      <td>9.0</td>\n",
       "    </tr>\n",
       "    <tr>\n",
       "      <th>5833</th>\n",
       "      <td>0</td>\n",
       "      <td>27</td>\n",
       "      <td>8.5</td>\n",
       "    </tr>\n",
       "    <tr>\n",
       "      <th>5834</th>\n",
       "      <td>0</td>\n",
       "      <td>27</td>\n",
       "      <td>9.0</td>\n",
       "    </tr>\n",
       "    <tr>\n",
       "      <th>5837</th>\n",
       "      <td>0</td>\n",
       "      <td>27</td>\n",
       "      <td>8.5</td>\n",
       "    </tr>\n",
       "    <tr>\n",
       "      <th>5838</th>\n",
       "      <td>0</td>\n",
       "      <td>27</td>\n",
       "      <td>8.0</td>\n",
       "    </tr>\n",
       "    <tr>\n",
       "      <th>5839</th>\n",
       "      <td>0</td>\n",
       "      <td>27</td>\n",
       "      <td>8.0</td>\n",
       "    </tr>\n",
       "    <tr>\n",
       "      <th>5840</th>\n",
       "      <td>2</td>\n",
       "      <td>27</td>\n",
       "      <td>9.0</td>\n",
       "    </tr>\n",
       "    <tr>\n",
       "      <th>5841</th>\n",
       "      <td>0</td>\n",
       "      <td>27</td>\n",
       "      <td>8.5</td>\n",
       "    </tr>\n",
       "    <tr>\n",
       "      <th>5842</th>\n",
       "      <td>0</td>\n",
       "      <td>27</td>\n",
       "      <td>6.0</td>\n",
       "    </tr>\n",
       "    <tr>\n",
       "      <th>5843</th>\n",
       "      <td>2</td>\n",
       "      <td>27</td>\n",
       "      <td>6.0</td>\n",
       "    </tr>\n",
       "    <tr>\n",
       "      <th>5844</th>\n",
       "      <td>2</td>\n",
       "      <td>27</td>\n",
       "      <td>9.0</td>\n",
       "    </tr>\n",
       "    <tr>\n",
       "      <th>5846</th>\n",
       "      <td>0</td>\n",
       "      <td>27</td>\n",
       "      <td>7.5</td>\n",
       "    </tr>\n",
       "    <tr>\n",
       "      <th>5848</th>\n",
       "      <td>4</td>\n",
       "      <td>27</td>\n",
       "      <td>6.0</td>\n",
       "    </tr>\n",
       "    <tr>\n",
       "      <th>5849</th>\n",
       "      <td>2</td>\n",
       "      <td>27</td>\n",
       "      <td>7.5</td>\n",
       "    </tr>\n",
       "    <tr>\n",
       "      <th>5850</th>\n",
       "      <td>2</td>\n",
       "      <td>27</td>\n",
       "      <td>8.3</td>\n",
       "    </tr>\n",
       "    <tr>\n",
       "      <th>5852</th>\n",
       "      <td>0</td>\n",
       "      <td>27</td>\n",
       "      <td>9.5</td>\n",
       "    </tr>\n",
       "    <tr>\n",
       "      <th>5853</th>\n",
       "      <td>0</td>\n",
       "      <td>27</td>\n",
       "      <td>7.5</td>\n",
       "    </tr>\n",
       "    <tr>\n",
       "      <th>5863</th>\n",
       "      <td>0</td>\n",
       "      <td>27</td>\n",
       "      <td>8.8</td>\n",
       "    </tr>\n",
       "    <tr>\n",
       "      <th>5864</th>\n",
       "      <td>0</td>\n",
       "      <td>27</td>\n",
       "      <td>8.8</td>\n",
       "    </tr>\n",
       "    <tr>\n",
       "      <th>5866</th>\n",
       "      <td>0</td>\n",
       "      <td>27</td>\n",
       "      <td>6.5</td>\n",
       "    </tr>\n",
       "    <tr>\n",
       "      <th>5867</th>\n",
       "      <td>1</td>\n",
       "      <td>27</td>\n",
       "      <td>8.5</td>\n",
       "    </tr>\n",
       "    <tr>\n",
       "      <th>5868</th>\n",
       "      <td>2</td>\n",
       "      <td>27</td>\n",
       "      <td>8.3</td>\n",
       "    </tr>\n",
       "    <tr>\n",
       "      <th>5869</th>\n",
       "      <td>2</td>\n",
       "      <td>27</td>\n",
       "      <td>8.0</td>\n",
       "    </tr>\n",
       "    <tr>\n",
       "      <th>5870</th>\n",
       "      <td>0</td>\n",
       "      <td>27</td>\n",
       "      <td>7.0</td>\n",
       "    </tr>\n",
       "    <tr>\n",
       "      <th>5876</th>\n",
       "      <td>0</td>\n",
       "      <td>27</td>\n",
       "      <td>6.0</td>\n",
       "    </tr>\n",
       "    <tr>\n",
       "      <th>5877</th>\n",
       "      <td>0</td>\n",
       "      <td>27</td>\n",
       "      <td>8.0</td>\n",
       "    </tr>\n",
       "    <tr>\n",
       "      <th>5878</th>\n",
       "      <td>4</td>\n",
       "      <td>27</td>\n",
       "      <td>7.0</td>\n",
       "    </tr>\n",
       "    <tr>\n",
       "      <th>...</th>\n",
       "      <td>...</td>\n",
       "      <td>...</td>\n",
       "      <td>...</td>\n",
       "    </tr>\n",
       "    <tr>\n",
       "      <th>20663</th>\n",
       "      <td>0</td>\n",
       "      <td>27</td>\n",
       "      <td>7.7</td>\n",
       "    </tr>\n",
       "    <tr>\n",
       "      <th>20664</th>\n",
       "      <td>0</td>\n",
       "      <td>27</td>\n",
       "      <td>10.0</td>\n",
       "    </tr>\n",
       "    <tr>\n",
       "      <th>20665</th>\n",
       "      <td>0</td>\n",
       "      <td>27</td>\n",
       "      <td>8.8</td>\n",
       "    </tr>\n",
       "    <tr>\n",
       "      <th>20666</th>\n",
       "      <td>0</td>\n",
       "      <td>27</td>\n",
       "      <td>7.9</td>\n",
       "    </tr>\n",
       "    <tr>\n",
       "      <th>20667</th>\n",
       "      <td>0</td>\n",
       "      <td>27</td>\n",
       "      <td>8.0</td>\n",
       "    </tr>\n",
       "    <tr>\n",
       "      <th>20669</th>\n",
       "      <td>0</td>\n",
       "      <td>27</td>\n",
       "      <td>6.3</td>\n",
       "    </tr>\n",
       "    <tr>\n",
       "      <th>20672</th>\n",
       "      <td>0</td>\n",
       "      <td>27</td>\n",
       "      <td>6.5</td>\n",
       "    </tr>\n",
       "    <tr>\n",
       "      <th>20675</th>\n",
       "      <td>0</td>\n",
       "      <td>27</td>\n",
       "      <td>7.5</td>\n",
       "    </tr>\n",
       "    <tr>\n",
       "      <th>20676</th>\n",
       "      <td>0</td>\n",
       "      <td>27</td>\n",
       "      <td>7.5</td>\n",
       "    </tr>\n",
       "    <tr>\n",
       "      <th>20746</th>\n",
       "      <td>0</td>\n",
       "      <td>27</td>\n",
       "      <td>8.5</td>\n",
       "    </tr>\n",
       "    <tr>\n",
       "      <th>20747</th>\n",
       "      <td>0</td>\n",
       "      <td>27</td>\n",
       "      <td>8.5</td>\n",
       "    </tr>\n",
       "    <tr>\n",
       "      <th>20748</th>\n",
       "      <td>0</td>\n",
       "      <td>27</td>\n",
       "      <td>9.4</td>\n",
       "    </tr>\n",
       "    <tr>\n",
       "      <th>20750</th>\n",
       "      <td>0</td>\n",
       "      <td>27</td>\n",
       "      <td>8.7</td>\n",
       "    </tr>\n",
       "    <tr>\n",
       "      <th>20751</th>\n",
       "      <td>0</td>\n",
       "      <td>27</td>\n",
       "      <td>8.0</td>\n",
       "    </tr>\n",
       "    <tr>\n",
       "      <th>20752</th>\n",
       "      <td>0</td>\n",
       "      <td>27</td>\n",
       "      <td>6.5</td>\n",
       "    </tr>\n",
       "    <tr>\n",
       "      <th>20753</th>\n",
       "      <td>0</td>\n",
       "      <td>27</td>\n",
       "      <td>8.0</td>\n",
       "    </tr>\n",
       "    <tr>\n",
       "      <th>20754</th>\n",
       "      <td>0</td>\n",
       "      <td>27</td>\n",
       "      <td>8.0</td>\n",
       "    </tr>\n",
       "    <tr>\n",
       "      <th>20755</th>\n",
       "      <td>0</td>\n",
       "      <td>27</td>\n",
       "      <td>8.7</td>\n",
       "    </tr>\n",
       "    <tr>\n",
       "      <th>20756</th>\n",
       "      <td>0</td>\n",
       "      <td>27</td>\n",
       "      <td>6.0</td>\n",
       "    </tr>\n",
       "    <tr>\n",
       "      <th>20757</th>\n",
       "      <td>0</td>\n",
       "      <td>27</td>\n",
       "      <td>6.7</td>\n",
       "    </tr>\n",
       "    <tr>\n",
       "      <th>20758</th>\n",
       "      <td>0</td>\n",
       "      <td>27</td>\n",
       "      <td>6.0</td>\n",
       "    </tr>\n",
       "    <tr>\n",
       "      <th>20759</th>\n",
       "      <td>0</td>\n",
       "      <td>27</td>\n",
       "      <td>6.0</td>\n",
       "    </tr>\n",
       "    <tr>\n",
       "      <th>20760</th>\n",
       "      <td>0</td>\n",
       "      <td>27</td>\n",
       "      <td>9.6</td>\n",
       "    </tr>\n",
       "    <tr>\n",
       "      <th>20761</th>\n",
       "      <td>0</td>\n",
       "      <td>27</td>\n",
       "      <td>8.2</td>\n",
       "    </tr>\n",
       "    <tr>\n",
       "      <th>20763</th>\n",
       "      <td>0</td>\n",
       "      <td>27</td>\n",
       "      <td>8.2</td>\n",
       "    </tr>\n",
       "    <tr>\n",
       "      <th>20764</th>\n",
       "      <td>0</td>\n",
       "      <td>27</td>\n",
       "      <td>6.0</td>\n",
       "    </tr>\n",
       "    <tr>\n",
       "      <th>20766</th>\n",
       "      <td>0</td>\n",
       "      <td>27</td>\n",
       "      <td>8.6</td>\n",
       "    </tr>\n",
       "    <tr>\n",
       "      <th>20767</th>\n",
       "      <td>0</td>\n",
       "      <td>27</td>\n",
       "      <td>7.9</td>\n",
       "    </tr>\n",
       "    <tr>\n",
       "      <th>20768</th>\n",
       "      <td>0</td>\n",
       "      <td>27</td>\n",
       "      <td>8.6</td>\n",
       "    </tr>\n",
       "    <tr>\n",
       "      <th>20769</th>\n",
       "      <td>0</td>\n",
       "      <td>27</td>\n",
       "      <td>8.6</td>\n",
       "    </tr>\n",
       "  </tbody>\n",
       "</table>\n",
       "<p>2561 rows × 3 columns</p>\n",
       "</div>"
      ],
      "text/plain": [
       "       N_FALTAS  CARGA_HOR  NOTAS\n",
       "5828          0         27    7.4\n",
       "5829          0         27    9.0\n",
       "5831          0         27    9.0\n",
       "5832          0         27    9.0\n",
       "5833          0         27    8.5\n",
       "5834          0         27    9.0\n",
       "5837          0         27    8.5\n",
       "5838          0         27    8.0\n",
       "5839          0         27    8.0\n",
       "5840          2         27    9.0\n",
       "5841          0         27    8.5\n",
       "5842          0         27    6.0\n",
       "5843          2         27    6.0\n",
       "5844          2         27    9.0\n",
       "5846          0         27    7.5\n",
       "5848          4         27    6.0\n",
       "5849          2         27    7.5\n",
       "5850          2         27    8.3\n",
       "5852          0         27    9.5\n",
       "5853          0         27    7.5\n",
       "5863          0         27    8.8\n",
       "5864          0         27    8.8\n",
       "5866          0         27    6.5\n",
       "5867          1         27    8.5\n",
       "5868          2         27    8.3\n",
       "5869          2         27    8.0\n",
       "5870          0         27    7.0\n",
       "5876          0         27    6.0\n",
       "5877          0         27    8.0\n",
       "5878          4         27    7.0\n",
       "...         ...        ...    ...\n",
       "20663         0         27    7.7\n",
       "20664         0         27   10.0\n",
       "20665         0         27    8.8\n",
       "20666         0         27    7.9\n",
       "20667         0         27    8.0\n",
       "20669         0         27    6.3\n",
       "20672         0         27    6.5\n",
       "20675         0         27    7.5\n",
       "20676         0         27    7.5\n",
       "20746         0         27    8.5\n",
       "20747         0         27    8.5\n",
       "20748         0         27    9.4\n",
       "20750         0         27    8.7\n",
       "20751         0         27    8.0\n",
       "20752         0         27    6.5\n",
       "20753         0         27    8.0\n",
       "20754         0         27    8.0\n",
       "20755         0         27    8.7\n",
       "20756         0         27    6.0\n",
       "20757         0         27    6.7\n",
       "20758         0         27    6.0\n",
       "20759         0         27    6.0\n",
       "20760         0         27    9.6\n",
       "20761         0         27    8.2\n",
       "20763         0         27    8.2\n",
       "20764         0         27    6.0\n",
       "20766         0         27    8.6\n",
       "20767         0         27    7.9\n",
       "20768         0         27    8.6\n",
       "20769         0         27    8.6\n",
       "\n",
       "[2561 rows x 3 columns]"
      ]
     },
     "execution_count": 306,
     "metadata": {},
     "output_type": "execute_result"
    }
   ],
   "source": [
    "df.loc[(df['N_FALTAS'] <= 4) & (df['CARGA_HOR'] == 27) & (df['NOTAS'] >= 6), ['N_FALTAS', 'CARGA_HOR', 'NOTAS']]"
   ]
  },
  {
   "cell_type": "markdown",
   "metadata": {},
   "source": [
    "Através dos locs listados acima, é inviavel utilizar-se de uma logica somente com eles <br>\n",
    "Será utilizado a função where, onde é possível retornar dois tipos de valor, através <br>\n",
    "de varias regras de negocio encaixadas na mesma"
   ]
  },
  {
   "cell_type": "code",
   "execution_count": 307,
   "metadata": {
    "collapsed": false
   },
   "outputs": [],
   "source": [
    "carga_A = ((df['N_FALTAS'] <= 16) & (df['CARGA_HOR'] == 54) & (df['NOTAS'] >= 6))\n",
    "carga_B = ((df['N_FALTAS'] <= 8) & (df['CARGA_HOR'] == 27) & (df['NOTAS'] >= 6)) \n",
    "carga_C = ((df['N_FALTAS'] <= 24) & (df['CARGA_HOR'] == 81)& (df['NOTAS'] >= 6))\n",
    "\n",
    "df['APROVADO'] = np.where((carga_A | carga_B | carga_C), 1, 0)"
   ]
  },
  {
   "cell_type": "code",
   "execution_count": 308,
   "metadata": {
    "collapsed": false
   },
   "outputs": [
    {
     "data": {
      "text/plain": [
       "array([1, 0], dtype=int64)"
      ]
     },
     "execution_count": 308,
     "metadata": {},
     "output_type": "execute_result"
    }
   ],
   "source": [
    "df.APROVADO.unique()"
   ]
  },
  {
   "cell_type": "code",
   "execution_count": 309,
   "metadata": {
    "collapsed": false,
    "scrolled": true
   },
   "outputs": [
    {
     "data": {
      "text/html": [
       "<div>\n",
       "<table border=\"1\" class=\"dataframe\">\n",
       "  <thead>\n",
       "    <tr style=\"text-align: right;\">\n",
       "      <th></th>\n",
       "      <th>SIT_MATRICULA</th>\n",
       "      <th>RENDA_FAMILIAR</th>\n",
       "      <th>ANO_CONCLUSAO_2_GRAU</th>\n",
       "      <th>RENDA_PER_CAPITA</th>\n",
       "      <th>N_FILHOS</th>\n",
       "      <th>SEXO</th>\n",
       "      <th>PROFISSAO</th>\n",
       "      <th>DESC_CIDADE</th>\n",
       "      <th>NIVEL_FALA</th>\n",
       "      <th>NIVEL_COMPREENSAO</th>\n",
       "      <th>NIVEL_ESCRITA</th>\n",
       "      <th>NIVEL_LEITURA</th>\n",
       "      <th>NOTAS</th>\n",
       "      <th>N_FALTAS</th>\n",
       "      <th>CARGA_HOR</th>\n",
       "      <th>ANO_INGRESSO</th>\n",
       "      <th>IDADE_INGRESSO</th>\n",
       "      <th>APROVADO</th>\n",
       "    </tr>\n",
       "  </thead>\n",
       "  <tbody>\n",
       "    <tr>\n",
       "      <th>count</th>\n",
       "      <td>17978.000000</td>\n",
       "      <td>17978.000000</td>\n",
       "      <td>17978.000000</td>\n",
       "      <td>17978.000000</td>\n",
       "      <td>17978.000000</td>\n",
       "      <td>17978.000000</td>\n",
       "      <td>17978.000000</td>\n",
       "      <td>17978.000000</td>\n",
       "      <td>17978.000000</td>\n",
       "      <td>17978.000000</td>\n",
       "      <td>17978.000000</td>\n",
       "      <td>17978.000000</td>\n",
       "      <td>17978.000000</td>\n",
       "      <td>17978.000000</td>\n",
       "      <td>17978.000000</td>\n",
       "      <td>17978.000000</td>\n",
       "      <td>17978.000000</td>\n",
       "      <td>17978.000000</td>\n",
       "    </tr>\n",
       "    <tr>\n",
       "      <th>mean</th>\n",
       "      <td>0.300812</td>\n",
       "      <td>2.393481</td>\n",
       "      <td>2007.495884</td>\n",
       "      <td>7.218879</td>\n",
       "      <td>0.026032</td>\n",
       "      <td>0.149460</td>\n",
       "      <td>0.191846</td>\n",
       "      <td>0.592224</td>\n",
       "      <td>1.019023</td>\n",
       "      <td>1.151352</td>\n",
       "      <td>1.054511</td>\n",
       "      <td>1.245300</td>\n",
       "      <td>6.189971</td>\n",
       "      <td>8.321727</td>\n",
       "      <td>51.883914</td>\n",
       "      <td>2010.928691</td>\n",
       "      <td>21.048782</td>\n",
       "      <td>0.732395</td>\n",
       "    </tr>\n",
       "    <tr>\n",
       "      <th>std</th>\n",
       "      <td>0.458624</td>\n",
       "      <td>1.990165</td>\n",
       "      <td>4.337401</td>\n",
       "      <td>3.348778</td>\n",
       "      <td>0.159234</td>\n",
       "      <td>0.356552</td>\n",
       "      <td>0.393763</td>\n",
       "      <td>1.059544</td>\n",
       "      <td>1.046281</td>\n",
       "      <td>1.140933</td>\n",
       "      <td>1.060777</td>\n",
       "      <td>1.206596</td>\n",
       "      <td>2.872362</td>\n",
       "      <td>15.854215</td>\n",
       "      <td>15.222886</td>\n",
       "      <td>1.961023</td>\n",
       "      <td>4.992324</td>\n",
       "      <td>0.442723</td>\n",
       "    </tr>\n",
       "    <tr>\n",
       "      <th>min</th>\n",
       "      <td>0.000000</td>\n",
       "      <td>0.000000</td>\n",
       "      <td>1973.000000</td>\n",
       "      <td>0.000000</td>\n",
       "      <td>0.000000</td>\n",
       "      <td>0.000000</td>\n",
       "      <td>0.000000</td>\n",
       "      <td>0.000000</td>\n",
       "      <td>0.000000</td>\n",
       "      <td>0.000000</td>\n",
       "      <td>0.000000</td>\n",
       "      <td>0.000000</td>\n",
       "      <td>0.000000</td>\n",
       "      <td>0.000000</td>\n",
       "      <td>27.000000</td>\n",
       "      <td>2008.000000</td>\n",
       "      <td>16.000000</td>\n",
       "      <td>0.000000</td>\n",
       "    </tr>\n",
       "    <tr>\n",
       "      <th>25%</th>\n",
       "      <td>0.000000</td>\n",
       "      <td>0.000000</td>\n",
       "      <td>2006.000000</td>\n",
       "      <td>8.000000</td>\n",
       "      <td>0.000000</td>\n",
       "      <td>0.000000</td>\n",
       "      <td>0.000000</td>\n",
       "      <td>0.000000</td>\n",
       "      <td>0.000000</td>\n",
       "      <td>0.000000</td>\n",
       "      <td>0.000000</td>\n",
       "      <td>0.000000</td>\n",
       "      <td>5.800000</td>\n",
       "      <td>0.000000</td>\n",
       "      <td>54.000000</td>\n",
       "      <td>2009.000000</td>\n",
       "      <td>18.000000</td>\n",
       "      <td>0.000000</td>\n",
       "    </tr>\n",
       "    <tr>\n",
       "      <th>50%</th>\n",
       "      <td>0.000000</td>\n",
       "      <td>4.000000</td>\n",
       "      <td>2008.000000</td>\n",
       "      <td>8.000000</td>\n",
       "      <td>0.000000</td>\n",
       "      <td>0.000000</td>\n",
       "      <td>0.000000</td>\n",
       "      <td>0.000000</td>\n",
       "      <td>1.000000</td>\n",
       "      <td>1.000000</td>\n",
       "      <td>1.000000</td>\n",
       "      <td>1.000000</td>\n",
       "      <td>7.000000</td>\n",
       "      <td>2.000000</td>\n",
       "      <td>54.000000</td>\n",
       "      <td>2011.000000</td>\n",
       "      <td>19.000000</td>\n",
       "      <td>1.000000</td>\n",
       "    </tr>\n",
       "    <tr>\n",
       "      <th>75%</th>\n",
       "      <td>1.000000</td>\n",
       "      <td>4.000000</td>\n",
       "      <td>2010.000000</td>\n",
       "      <td>10.000000</td>\n",
       "      <td>0.000000</td>\n",
       "      <td>0.000000</td>\n",
       "      <td>0.000000</td>\n",
       "      <td>1.000000</td>\n",
       "      <td>2.000000</td>\n",
       "      <td>2.000000</td>\n",
       "      <td>2.000000</td>\n",
       "      <td>2.000000</td>\n",
       "      <td>8.200000</td>\n",
       "      <td>8.000000</td>\n",
       "      <td>54.000000</td>\n",
       "      <td>2012.000000</td>\n",
       "      <td>22.000000</td>\n",
       "      <td>1.000000</td>\n",
       "    </tr>\n",
       "    <tr>\n",
       "      <th>max</th>\n",
       "      <td>1.000000</td>\n",
       "      <td>6.000000</td>\n",
       "      <td>2015.000000</td>\n",
       "      <td>10.000000</td>\n",
       "      <td>1.000000</td>\n",
       "      <td>1.000000</td>\n",
       "      <td>1.000000</td>\n",
       "      <td>4.000000</td>\n",
       "      <td>3.000000</td>\n",
       "      <td>3.000000</td>\n",
       "      <td>3.000000</td>\n",
       "      <td>3.000000</td>\n",
       "      <td>10.000000</td>\n",
       "      <td>120.000000</td>\n",
       "      <td>81.000000</td>\n",
       "      <td>2016.000000</td>\n",
       "      <td>56.000000</td>\n",
       "      <td>1.000000</td>\n",
       "    </tr>\n",
       "  </tbody>\n",
       "</table>\n",
       "</div>"
      ],
      "text/plain": [
       "       SIT_MATRICULA  RENDA_FAMILIAR  ANO_CONCLUSAO_2_GRAU  RENDA_PER_CAPITA  \\\n",
       "count   17978.000000    17978.000000          17978.000000      17978.000000   \n",
       "mean        0.300812        2.393481           2007.495884          7.218879   \n",
       "std         0.458624        1.990165              4.337401          3.348778   \n",
       "min         0.000000        0.000000           1973.000000          0.000000   \n",
       "25%         0.000000        0.000000           2006.000000          8.000000   \n",
       "50%         0.000000        4.000000           2008.000000          8.000000   \n",
       "75%         1.000000        4.000000           2010.000000         10.000000   \n",
       "max         1.000000        6.000000           2015.000000         10.000000   \n",
       "\n",
       "           N_FILHOS          SEXO     PROFISSAO   DESC_CIDADE    NIVEL_FALA  \\\n",
       "count  17978.000000  17978.000000  17978.000000  17978.000000  17978.000000   \n",
       "mean       0.026032      0.149460      0.191846      0.592224      1.019023   \n",
       "std        0.159234      0.356552      0.393763      1.059544      1.046281   \n",
       "min        0.000000      0.000000      0.000000      0.000000      0.000000   \n",
       "25%        0.000000      0.000000      0.000000      0.000000      0.000000   \n",
       "50%        0.000000      0.000000      0.000000      0.000000      1.000000   \n",
       "75%        0.000000      0.000000      0.000000      1.000000      2.000000   \n",
       "max        1.000000      1.000000      1.000000      4.000000      3.000000   \n",
       "\n",
       "       NIVEL_COMPREENSAO  NIVEL_ESCRITA  NIVEL_LEITURA         NOTAS  \\\n",
       "count       17978.000000   17978.000000   17978.000000  17978.000000   \n",
       "mean            1.151352       1.054511       1.245300      6.189971   \n",
       "std             1.140933       1.060777       1.206596      2.872362   \n",
       "min             0.000000       0.000000       0.000000      0.000000   \n",
       "25%             0.000000       0.000000       0.000000      5.800000   \n",
       "50%             1.000000       1.000000       1.000000      7.000000   \n",
       "75%             2.000000       2.000000       2.000000      8.200000   \n",
       "max             3.000000       3.000000       3.000000     10.000000   \n",
       "\n",
       "           N_FALTAS     CARGA_HOR  ANO_INGRESSO  IDADE_INGRESSO      APROVADO  \n",
       "count  17978.000000  17978.000000  17978.000000    17978.000000  17978.000000  \n",
       "mean       8.321727     51.883914   2010.928691       21.048782      0.732395  \n",
       "std       15.854215     15.222886      1.961023        4.992324      0.442723  \n",
       "min        0.000000     27.000000   2008.000000       16.000000      0.000000  \n",
       "25%        0.000000     54.000000   2009.000000       18.000000      0.000000  \n",
       "50%        2.000000     54.000000   2011.000000       19.000000      1.000000  \n",
       "75%        8.000000     54.000000   2012.000000       22.000000      1.000000  \n",
       "max      120.000000     81.000000   2016.000000       56.000000      1.000000  "
      ]
     },
     "execution_count": 309,
     "metadata": {},
     "output_type": "execute_result"
    }
   ],
   "source": [
    "df.dropna().describe()"
   ]
  },
  {
   "cell_type": "markdown",
   "metadata": {},
   "source": [
    "Transportando a nova tabela para um arquivo novo"
   ]
  },
  {
   "cell_type": "code",
   "execution_count": 310,
   "metadata": {
    "collapsed": true
   },
   "outputs": [],
   "source": [
    "df.to_csv('curso_clean.csv', index=False)"
   ]
  }
 ],
 "metadata": {
  "kernelspec": {
   "display_name": "Python 3",
   "language": "python",
   "name": "python3"
  },
  "language_info": {
   "codemirror_mode": {
    "name": "ipython",
    "version": 3
   },
   "file_extension": ".py",
   "mimetype": "text/x-python",
   "name": "python",
   "nbconvert_exporter": "python",
   "pygments_lexer": "ipython3",
   "version": "3.6.0"
  }
 },
 "nbformat": 4,
 "nbformat_minor": 2
}
